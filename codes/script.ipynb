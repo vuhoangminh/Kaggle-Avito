{
 "cells": [
  {
   "cell_type": "markdown",
   "metadata": {
    "_cell_guid": "357cf094-2ea2-4a44-8aeb-d0717696bd2f",
    "_uuid": "b588970d9f1d6304ee9e363ce8580507b389814f"
   },
   "source": [
    "**About the Competition:**\n",
    "\n",
    "[Avito](https://www.avito.ru/), Russia’s largest classified advertisements website, is hosting its fourth Kaggle competition. The challenge is to predict demand for an online advertisement based on its full description (title, description, images, etc.), its context (geographically where it was posted, similar ads already posted) and historical demand for similar ads in similar contexts. \n",
    "\n",
    "**About the Notebook:**\n",
    "\n",
    "One more exciting competition ahead and this involves both NLP (text data in Russian) and Image data along with numerical . In this notebook, let us get into the basic data exploration using python. \n",
    "\n",
    "Thanks to [Yandex Translate](https://translate.yandex.com/), I was able to get english names for the russian names and used them whenever possible. Most of the plots are in plotly and so please hover over them to see more details. "
   ]
  },
  {
   "cell_type": "code",
   "execution_count": 1,
   "metadata": {
    "_cell_guid": "b1076dfc-b9ad-4769-8c92-a6c4dae69d19",
    "_uuid": "8f2839f25d086af736a60e9eeb907d3b93b6e0e5"
   },
   "outputs": [
    {
     "data": {
      "text/html": [
       "<script>requirejs.config({paths: { 'plotly': ['https://cdn.plot.ly/plotly-latest.min']},});if(!window.Plotly) {{require(['plotly'],function(plotly) {window.Plotly=plotly;});}}</script>"
      ],
      "text/vnd.plotly.v1+html": [
       "<script>requirejs.config({paths: { 'plotly': ['https://cdn.plot.ly/plotly-latest.min']},});if(!window.Plotly) {{require(['plotly'],function(plotly) {window.Plotly=plotly;});}}</script>"
      ]
     },
     "metadata": {},
     "output_type": "display_data"
    }
   ],
   "source": [
    "import numpy as np # linear algebra\n",
    "import pandas as pd # data processing, CSV file I/O (e.g. pd.read_csv)\n",
    "import matplotlib.pyplot as plt\n",
    "import seaborn as sns\n",
    "from sklearn.feature_extraction.text import TfidfVectorizer, CountVectorizer\n",
    "from sklearn.decomposition import TruncatedSVD\n",
    "from sklearn import preprocessing, model_selection, metrics\n",
    "import lightgbm as lgb\n",
    "\n",
    "color = sns.color_palette()\n",
    "%matplotlib inline\n",
    "\n",
    "import plotly.offline as py\n",
    "py.init_notebook_mode(connected=True)\n",
    "import plotly.graph_objs as go\n",
    "import plotly.tools as tls\n",
    "\n",
    "pd.options.mode.chained_assignment = None\n",
    "pd.options.display.max_columns = 999"
   ]
  },
  {
   "cell_type": "markdown",
   "metadata": {
    "_cell_guid": "649eea04-9cf2-429e-9378-e7daf948326a",
    "_uuid": "af92759c050311a049b129ec2fb308bc206f9447"
   },
   "source": [
    "Now let us look at the input files present in the dataset. "
   ]
  },
  {
   "cell_type": "code",
   "execution_count": 2,
   "metadata": {
    "_cell_guid": "38fe4b05-4391-4520-9346-76ec3a079b22",
    "_uuid": "a63a82670f8c459459066c5d7ebda778ce6d8626"
   },
   "outputs": [
    {
     "name": "stdout",
     "output_type": "stream",
     "text": [
      "avito.twb\n",
      "test.csv\n",
      "train.csv\n",
      "\n"
     ]
    }
   ],
   "source": [
    "from subprocess import check_output\n",
    "print(check_output([\"ls\", \"../input/\"]).decode(\"utf8\"))"
   ]
  },
  {
   "cell_type": "markdown",
   "metadata": {
    "_cell_guid": "79c7e3d0-c299-4dcb-8224-4455121ee9b0",
    "_uuid": "d629ff2d2480ee46fbb7e2d37f6b5fab8052498a",
    "collapsed": true
   },
   "source": [
    "The description of the data files from the data page:\n",
    "\n",
    "* train.csv - Train data.\n",
    "* test.csv - Test data. Same schema as the train data, minus deal_probability.\n",
    "* train_active.csv - Supplemental data from ads that were displayed during the same period as train.csv. Same schema as the train data, minus deal_probability.\n",
    "* test_active.csv - Supplemental data from ads that were displayed during the same period as test.csv. Same schema as the train data, minus deal_probability.\n",
    "* periods_train.csv - Supplemental data showing the dates when the ads from train_active.csv were activated and when they where displayed.\n",
    "* periods_test.csv - Supplemental data showing the dates when the ads from test_active.csv were activated and when they where displayed. Same schema as periods_train.csv, except that the item ids map to an ad in test_active.csv.\n",
    "* train_jpg.zip - Images from the ads in train.csv.\n",
    "* test_jpg.zip - Images from the ads in test.csv.\n",
    "* sample_submission.csv - A sample submission in the correct format.\n",
    "\n",
    "Let us start with the train file."
   ]
  },
  {
   "cell_type": "code",
   "execution_count": 3,
   "metadata": {
    "_cell_guid": "02081c71-977c-4f5a-b990-b1d0dc8bb858",
    "_uuid": "67e924346e31d55b07a38a1038da815d76e28356"
   },
   "outputs": [
    {
     "name": "stdout",
     "output_type": "stream",
     "text": [
      "Train file rows and columns are :  (1503424, 18)\n",
      "Test file rows and columns are :  (508438, 17)\n"
     ]
    }
   ],
   "source": [
    "train_df = pd.read_csv(\"../input/train.csv\", parse_dates=[\"activation_date\"])\n",
    "test_df = pd.read_csv(\"../input/test.csv\", parse_dates=[\"activation_date\"])\n",
    "print(\"Train file rows and columns are : \", train_df.shape)\n",
    "print(\"Test file rows and columns are : \", test_df.shape)"
   ]
  },
  {
   "cell_type": "code",
   "execution_count": 18,
   "metadata": {
    "_cell_guid": "23399ebb-1137-4982-bd32-89e85c00dd70",
    "_uuid": "5fd384836d7725f81b638eabf52e8643d4e478d9"
   },
   "outputs": [
    {
     "data": {
      "text/html": [
       "<div>\n",
       "<style>\n",
       "    .dataframe thead tr:only-child th {\n",
       "        text-align: right;\n",
       "    }\n",
       "\n",
       "    .dataframe thead th {\n",
       "        text-align: left;\n",
       "    }\n",
       "\n",
       "    .dataframe tbody tr th {\n",
       "        vertical-align: top;\n",
       "    }\n",
       "</style>\n",
       "<table border=\"1\" class=\"dataframe\">\n",
       "  <thead>\n",
       "    <tr style=\"text-align: right;\">\n",
       "      <th></th>\n",
       "      <th>item_id</th>\n",
       "      <th>user_id</th>\n",
       "      <th>region</th>\n",
       "      <th>city</th>\n",
       "      <th>parent_category_name</th>\n",
       "      <th>category_name</th>\n",
       "      <th>param_1</th>\n",
       "      <th>param_2</th>\n",
       "      <th>param_3</th>\n",
       "      <th>title</th>\n",
       "      <th>description</th>\n",
       "      <th>price</th>\n",
       "      <th>item_seq_number</th>\n",
       "      <th>activation_date</th>\n",
       "      <th>user_type</th>\n",
       "      <th>image</th>\n",
       "      <th>image_top_1</th>\n",
       "      <th>deal_probability</th>\n",
       "      <th>region_en</th>\n",
       "      <th>parent_category_name_en</th>\n",
       "      <th>category_name_en</th>\n",
       "    </tr>\n",
       "  </thead>\n",
       "  <tbody>\n",
       "    <tr>\n",
       "      <th>0</th>\n",
       "      <td>b912c3c6a6ad</td>\n",
       "      <td>e00f8ff2eaf9</td>\n",
       "      <td>Свердловская область</td>\n",
       "      <td>Екатеринбург</td>\n",
       "      <td>Личные вещи</td>\n",
       "      <td>Товары для детей и игрушки</td>\n",
       "      <td>Постельные принадлежности</td>\n",
       "      <td>NaN</td>\n",
       "      <td>NaN</td>\n",
       "      <td>Кокоби(кокон для сна)</td>\n",
       "      <td>Кокон для сна малыша,пользовались меньше месяц...</td>\n",
       "      <td>400.0</td>\n",
       "      <td>2</td>\n",
       "      <td>2017-03-28</td>\n",
       "      <td>Private</td>\n",
       "      <td>d10c7e016e03247a3bf2d13348fe959fe6f436c1caf64c...</td>\n",
       "      <td>1008.0</td>\n",
       "      <td>0.12789</td>\n",
       "      <td>Sverdlovsk oblast</td>\n",
       "      <td>Personal belongings</td>\n",
       "      <td>Children's products and toys</td>\n",
       "    </tr>\n",
       "    <tr>\n",
       "      <th>1</th>\n",
       "      <td>2dac0150717d</td>\n",
       "      <td>39aeb48f0017</td>\n",
       "      <td>Самарская область</td>\n",
       "      <td>Самара</td>\n",
       "      <td>Для дома и дачи</td>\n",
       "      <td>Мебель и интерьер</td>\n",
       "      <td>Другое</td>\n",
       "      <td>NaN</td>\n",
       "      <td>NaN</td>\n",
       "      <td>Стойка для Одежды</td>\n",
       "      <td>Стойка для одежды, под вешалки. С бутика.</td>\n",
       "      <td>3000.0</td>\n",
       "      <td>19</td>\n",
       "      <td>2017-03-26</td>\n",
       "      <td>Private</td>\n",
       "      <td>79c9392cc51a9c81c6eb91eceb8e552171db39d7142700...</td>\n",
       "      <td>692.0</td>\n",
       "      <td>0.00000</td>\n",
       "      <td>Samara oblast</td>\n",
       "      <td>For the home and garden</td>\n",
       "      <td>Furniture and interior</td>\n",
       "    </tr>\n",
       "    <tr>\n",
       "      <th>2</th>\n",
       "      <td>ba83aefab5dc</td>\n",
       "      <td>91e2f88dd6e3</td>\n",
       "      <td>Ростовская область</td>\n",
       "      <td>Ростов-на-Дону</td>\n",
       "      <td>Бытовая электроника</td>\n",
       "      <td>Аудио и видео</td>\n",
       "      <td>Видео, DVD и Blu-ray плееры</td>\n",
       "      <td>NaN</td>\n",
       "      <td>NaN</td>\n",
       "      <td>Philips bluray</td>\n",
       "      <td>В хорошем состоянии, домашний кинотеатр с blu ...</td>\n",
       "      <td>4000.0</td>\n",
       "      <td>9</td>\n",
       "      <td>2017-03-20</td>\n",
       "      <td>Private</td>\n",
       "      <td>b7f250ee3f39e1fedd77c141f273703f4a9be59db4b48a...</td>\n",
       "      <td>3032.0</td>\n",
       "      <td>0.43177</td>\n",
       "      <td>Rostov oblast</td>\n",
       "      <td>Consumer electronics</td>\n",
       "      <td>Audio and video</td>\n",
       "    </tr>\n",
       "    <tr>\n",
       "      <th>3</th>\n",
       "      <td>02996f1dd2ea</td>\n",
       "      <td>bf5cccea572d</td>\n",
       "      <td>Татарстан</td>\n",
       "      <td>Набережные Челны</td>\n",
       "      <td>Личные вещи</td>\n",
       "      <td>Товары для детей и игрушки</td>\n",
       "      <td>Автомобильные кресла</td>\n",
       "      <td>NaN</td>\n",
       "      <td>NaN</td>\n",
       "      <td>Автокресло</td>\n",
       "      <td>Продам кресло от0-25кг</td>\n",
       "      <td>2200.0</td>\n",
       "      <td>286</td>\n",
       "      <td>2017-03-25</td>\n",
       "      <td>Company</td>\n",
       "      <td>e6ef97e0725637ea84e3d203e82dadb43ed3cc0a1c8413...</td>\n",
       "      <td>796.0</td>\n",
       "      <td>0.80323</td>\n",
       "      <td>Tatarstan</td>\n",
       "      <td>Personal belongings</td>\n",
       "      <td>Children's products and toys</td>\n",
       "    </tr>\n",
       "    <tr>\n",
       "      <th>4</th>\n",
       "      <td>7c90be56d2ab</td>\n",
       "      <td>ef50846afc0b</td>\n",
       "      <td>Волгоградская область</td>\n",
       "      <td>Волгоград</td>\n",
       "      <td>Транспорт</td>\n",
       "      <td>Автомобили</td>\n",
       "      <td>С пробегом</td>\n",
       "      <td>ВАЗ (LADA)</td>\n",
       "      <td>2110</td>\n",
       "      <td>ВАЗ 2110, 2003</td>\n",
       "      <td>Все вопросы по телефону.</td>\n",
       "      <td>40000.0</td>\n",
       "      <td>3</td>\n",
       "      <td>2017-03-16</td>\n",
       "      <td>Private</td>\n",
       "      <td>54a687a3a0fc1d68aed99bdaaf551c5c70b761b16fd0a2...</td>\n",
       "      <td>2264.0</td>\n",
       "      <td>0.20797</td>\n",
       "      <td>Volgograd oblast</td>\n",
       "      <td>Transport</td>\n",
       "      <td>Cars</td>\n",
       "    </tr>\n",
       "    <tr>\n",
       "      <th>5</th>\n",
       "      <td>51e0962387f7</td>\n",
       "      <td>bbfad0b1ad0a</td>\n",
       "      <td>Татарстан</td>\n",
       "      <td>Чистополь</td>\n",
       "      <td>Личные вещи</td>\n",
       "      <td>Товары для детей и игрушки</td>\n",
       "      <td>Автомобильные кресла</td>\n",
       "      <td>NaN</td>\n",
       "      <td>NaN</td>\n",
       "      <td>Авто люлька</td>\n",
       "      <td>В хорошем состоянии</td>\n",
       "      <td>1300.0</td>\n",
       "      <td>9</td>\n",
       "      <td>2017-03-28</td>\n",
       "      <td>Private</td>\n",
       "      <td>eb6ad1231c59d3dc7e4020e724ffe8e4d302023ddcbb99...</td>\n",
       "      <td>796.0</td>\n",
       "      <td>0.80323</td>\n",
       "      <td>Tatarstan</td>\n",
       "      <td>Personal belongings</td>\n",
       "      <td>Children's products and toys</td>\n",
       "    </tr>\n",
       "    <tr>\n",
       "      <th>6</th>\n",
       "      <td>c4f260a2b48a</td>\n",
       "      <td>08f469d2e6f7</td>\n",
       "      <td>Нижегородская область</td>\n",
       "      <td>Нижний Новгород</td>\n",
       "      <td>Для дома и дачи</td>\n",
       "      <td>Ремонт и строительство</td>\n",
       "      <td>Сантехника и сауна</td>\n",
       "      <td>NaN</td>\n",
       "      <td>NaN</td>\n",
       "      <td>Водонагреватель 100 литров нержавейка плоский</td>\n",
       "      <td>Электро водонагреватель накопительный на 100 л...</td>\n",
       "      <td>11000.0</td>\n",
       "      <td>125</td>\n",
       "      <td>2017-03-23</td>\n",
       "      <td>Private</td>\n",
       "      <td>0330f6ac561f5db1fa8226dd5e7e127b5671d44d075a98...</td>\n",
       "      <td>2823.0</td>\n",
       "      <td>0.00000</td>\n",
       "      <td>Nizhny Novgorod oblast</td>\n",
       "      <td>For the home and garden</td>\n",
       "      <td>Repair and construction</td>\n",
       "    </tr>\n",
       "    <tr>\n",
       "      <th>7</th>\n",
       "      <td>6b71309d6a8a</td>\n",
       "      <td>fef86baa002c</td>\n",
       "      <td>Пермский край</td>\n",
       "      <td>Пермь</td>\n",
       "      <td>Личные вещи</td>\n",
       "      <td>Одежда, обувь, аксессуары</td>\n",
       "      <td>Женская одежда</td>\n",
       "      <td>Джинсы</td>\n",
       "      <td>26</td>\n",
       "      <td>Бойфренды colins</td>\n",
       "      <td>Бойфренды в хорошем состоянии.</td>\n",
       "      <td>500.0</td>\n",
       "      <td>61</td>\n",
       "      <td>2017-03-25</td>\n",
       "      <td>Private</td>\n",
       "      <td>9bab29a519e81c14f4582024adfebd4f11a4ac71d323a6...</td>\n",
       "      <td>567.0</td>\n",
       "      <td>0.80323</td>\n",
       "      <td>Perm Krai</td>\n",
       "      <td>Personal belongings</td>\n",
       "      <td>Clothing, shoes, accessories</td>\n",
       "    </tr>\n",
       "    <tr>\n",
       "      <th>8</th>\n",
       "      <td>c5b969cb63a2</td>\n",
       "      <td>055825270190</td>\n",
       "      <td>Оренбургская область</td>\n",
       "      <td>Оренбург</td>\n",
       "      <td>Личные вещи</td>\n",
       "      <td>Одежда, обувь, аксессуары</td>\n",
       "      <td>Женская одежда</td>\n",
       "      <td>Платья и юбки</td>\n",
       "      <td>&gt; 50 (XXL)</td>\n",
       "      <td>Платье</td>\n",
       "      <td>54 раз мер очень удобное</td>\n",
       "      <td>500.0</td>\n",
       "      <td>85</td>\n",
       "      <td>2017-03-17</td>\n",
       "      <td>Private</td>\n",
       "      <td>75ce06d1f939a31dfb2af8ac55f08fa998fa336d13ee05...</td>\n",
       "      <td>415.0</td>\n",
       "      <td>0.00000</td>\n",
       "      <td>Orenburg oblast</td>\n",
       "      <td>Personal belongings</td>\n",
       "      <td>Clothing, shoes, accessories</td>\n",
       "    </tr>\n",
       "    <tr>\n",
       "      <th>9</th>\n",
       "      <td>b1570962e68c</td>\n",
       "      <td>f9e8f831d94c</td>\n",
       "      <td>Нижегородская область</td>\n",
       "      <td>Нижний Новгород</td>\n",
       "      <td>Личные вещи</td>\n",
       "      <td>Детская одежда и обувь</td>\n",
       "      <td>Для девочек</td>\n",
       "      <td>Обувь</td>\n",
       "      <td>25</td>\n",
       "      <td>Полу ботиночки замш натур.Бамбини</td>\n",
       "      <td>По стельке 15.5см мерить приокский район. Цвет...</td>\n",
       "      <td>400.0</td>\n",
       "      <td>136</td>\n",
       "      <td>2017-03-22</td>\n",
       "      <td>Company</td>\n",
       "      <td>54fb8521135fda77a860bfd2fac6bf46867ab7c06796e3...</td>\n",
       "      <td>46.0</td>\n",
       "      <td>0.00000</td>\n",
       "      <td>Nizhny Novgorod oblast</td>\n",
       "      <td>Personal belongings</td>\n",
       "      <td>Children's clothing and shoes</td>\n",
       "    </tr>\n",
       "    <tr>\n",
       "      <th>10</th>\n",
       "      <td>d5480bb4a6e4</td>\n",
       "      <td>d46200940f37</td>\n",
       "      <td>Ханты-Мансийский АО</td>\n",
       "      <td>Ханты-Мансийск</td>\n",
       "      <td>Недвижимость</td>\n",
       "      <td>Квартиры</td>\n",
       "      <td>Сдам</td>\n",
       "      <td>На длительный срок</td>\n",
       "      <td>1</td>\n",
       "      <td>1-к квартира, 25 м², 2/2 эт.</td>\n",
       "      <td>Сдается однокомнатная мебелированная квартира ...</td>\n",
       "      <td>18000.0</td>\n",
       "      <td>6</td>\n",
       "      <td>2017-03-25</td>\n",
       "      <td>Private</td>\n",
       "      <td>645d3fb949cb116a00c596ca1e168d8c5ddd21cdeacc5a...</td>\n",
       "      <td>1396.0</td>\n",
       "      <td>0.58853</td>\n",
       "      <td>Khanty-Mansi Autonomous Okrug</td>\n",
       "      <td>Real estate</td>\n",
       "      <td>Apartments</td>\n",
       "    </tr>\n",
       "    <tr>\n",
       "      <th>11</th>\n",
       "      <td>86f41f50d8c1</td>\n",
       "      <td>35c2b6b654e0</td>\n",
       "      <td>Тюменская область</td>\n",
       "      <td>Заводоуковск</td>\n",
       "      <td>Личные вещи</td>\n",
       "      <td>Одежда, обувь, аксессуары</td>\n",
       "      <td>Женская одежда</td>\n",
       "      <td>Джинсы</td>\n",
       "      <td>Без размера</td>\n",
       "      <td>Джинсы</td>\n",
       "      <td>NaN</td>\n",
       "      <td>1.0</td>\n",
       "      <td>4</td>\n",
       "      <td>2017-03-19</td>\n",
       "      <td>Shop</td>\n",
       "      <td>5162fdb7d8427738370d3145647d2726546f65631e5de9...</td>\n",
       "      <td>119.0</td>\n",
       "      <td>0.00000</td>\n",
       "      <td>Tyumen oblast</td>\n",
       "      <td>Personal belongings</td>\n",
       "      <td>Clothing, shoes, accessories</td>\n",
       "    </tr>\n",
       "    <tr>\n",
       "      <th>12</th>\n",
       "      <td>645237cb3601</td>\n",
       "      <td>fc9a38b79414</td>\n",
       "      <td>Оренбургская область</td>\n",
       "      <td>Оренбург</td>\n",
       "      <td>Личные вещи</td>\n",
       "      <td>Товары для детей и игрушки</td>\n",
       "      <td>Товары для школы</td>\n",
       "      <td>NaN</td>\n",
       "      <td>NaN</td>\n",
       "      <td>Атласы и Контурныя карты за 8 класс</td>\n",
       "      <td>Атлас история нового времени,19 век./\\nКонтурн...</td>\n",
       "      <td>70.0</td>\n",
       "      <td>15</td>\n",
       "      <td>2017-03-21</td>\n",
       "      <td>Private</td>\n",
       "      <td>5ba63fecb66633cde074c661e0249e26af5cf370241e13...</td>\n",
       "      <td>1040.0</td>\n",
       "      <td>0.13858</td>\n",
       "      <td>Orenburg oblast</td>\n",
       "      <td>Personal belongings</td>\n",
       "      <td>Children's products and toys</td>\n",
       "    </tr>\n",
       "    <tr>\n",
       "      <th>13</th>\n",
       "      <td>df2116f34563</td>\n",
       "      <td>3ce3c2318b16</td>\n",
       "      <td>Ростовская область</td>\n",
       "      <td>Ростов-на-Дону</td>\n",
       "      <td>Бытовая электроника</td>\n",
       "      <td>Товары для компьютера</td>\n",
       "      <td>Мониторы</td>\n",
       "      <td>NaN</td>\n",
       "      <td>NaN</td>\n",
       "      <td>Монитор acer 18.5</td>\n",
       "      <td>Продам манитор 18.5 v193HQV. В хорошем состоянии</td>\n",
       "      <td>2500.0</td>\n",
       "      <td>47</td>\n",
       "      <td>2017-03-22</td>\n",
       "      <td>Private</td>\n",
       "      <td>0c84cef077d10e5bb37af78049fb0a593c9f1c7f37f458...</td>\n",
       "      <td>2849.0</td>\n",
       "      <td>0.00000</td>\n",
       "      <td>Rostov oblast</td>\n",
       "      <td>Consumer electronics</td>\n",
       "      <td>Products for computer</td>\n",
       "    </tr>\n",
       "    <tr>\n",
       "      <th>14</th>\n",
       "      <td>a97943ae8158</td>\n",
       "      <td>f643d87dd23c</td>\n",
       "      <td>Башкортостан</td>\n",
       "      <td>Туймазы</td>\n",
       "      <td>Животные</td>\n",
       "      <td>Собаки</td>\n",
       "      <td>Немецкая овчарка</td>\n",
       "      <td>NaN</td>\n",
       "      <td>NaN</td>\n",
       "      <td>Продаются щенки немецкой овчарки</td>\n",
       "      <td>родились 1 февраля,три кобеля и сучка.</td>\n",
       "      <td>5000.0</td>\n",
       "      <td>6</td>\n",
       "      <td>2017-03-23</td>\n",
       "      <td>Private</td>\n",
       "      <td>09ebf4b30bad5857a1f26cd18d907c1e888bbe718bb13d...</td>\n",
       "      <td>2133.0</td>\n",
       "      <td>0.00000</td>\n",
       "      <td>Bashkortostan</td>\n",
       "      <td>Animals</td>\n",
       "      <td>Dogs</td>\n",
       "    </tr>\n",
       "    <tr>\n",
       "      <th>15</th>\n",
       "      <td>4b6abd0a5921</td>\n",
       "      <td>94de2b374869</td>\n",
       "      <td>Татарстан</td>\n",
       "      <td>Казань</td>\n",
       "      <td>Личные вещи</td>\n",
       "      <td>Одежда, обувь, аксессуары</td>\n",
       "      <td>Женская одежда</td>\n",
       "      <td>Платья и юбки</td>\n",
       "      <td>42–44 (S)</td>\n",
       "      <td>Платье женское новое</td>\n",
       "      <td>Одето 1 раз на пару часов. Длина 79. Можно кор...</td>\n",
       "      <td>800.0</td>\n",
       "      <td>86</td>\n",
       "      <td>2017-03-27</td>\n",
       "      <td>Private</td>\n",
       "      <td>df76951e5cc7073553ea3214fd2024b9f80166828a5356...</td>\n",
       "      <td>408.0</td>\n",
       "      <td>0.00000</td>\n",
       "      <td>Tatarstan</td>\n",
       "      <td>Personal belongings</td>\n",
       "      <td>Clothing, shoes, accessories</td>\n",
       "    </tr>\n",
       "    <tr>\n",
       "      <th>16</th>\n",
       "      <td>7896ef8fe482</td>\n",
       "      <td>007c6bd858cb</td>\n",
       "      <td>Краснодарский край</td>\n",
       "      <td>Краснодар</td>\n",
       "      <td>Транспорт</td>\n",
       "      <td>Автомобили</td>\n",
       "      <td>С пробегом</td>\n",
       "      <td>Chevrolet</td>\n",
       "      <td>Lanos</td>\n",
       "      <td>Chevrolet Lanos, 2008</td>\n",
       "      <td>Кондиционер, гидроусилитель руля, электрически...</td>\n",
       "      <td>140000.0</td>\n",
       "      <td>201</td>\n",
       "      <td>2017-03-18</td>\n",
       "      <td>Company</td>\n",
       "      <td>5244375e00cb2baefa50f4b01156cc492f8733b93c6cba...</td>\n",
       "      <td>1118.0</td>\n",
       "      <td>0.32100</td>\n",
       "      <td>Krasnodar Krai</td>\n",
       "      <td>Transport</td>\n",
       "      <td>Cars</td>\n",
       "    </tr>\n",
       "    <tr>\n",
       "      <th>17</th>\n",
       "      <td>7882b1e77748</td>\n",
       "      <td>7a3fda0cdf94</td>\n",
       "      <td>Новосибирская область</td>\n",
       "      <td>Новосибирск</td>\n",
       "      <td>Личные вещи</td>\n",
       "      <td>Товары для детей и игрушки</td>\n",
       "      <td>Игрушки</td>\n",
       "      <td>NaN</td>\n",
       "      <td>NaN</td>\n",
       "      <td>Объемная цифра 2</td>\n",
       "      <td>Размеры 75*53*15. Основа-картон, декор-гофриро...</td>\n",
       "      <td>500.0</td>\n",
       "      <td>9</td>\n",
       "      <td>2017-03-20</td>\n",
       "      <td>Private</td>\n",
       "      <td>0cdd241246bd930c0026315484d87817c47ce4d586d99b...</td>\n",
       "      <td>983.0</td>\n",
       "      <td>0.00000</td>\n",
       "      <td>Novosibirsk oblast</td>\n",
       "      <td>Personal belongings</td>\n",
       "      <td>Children's products and toys</td>\n",
       "    </tr>\n",
       "    <tr>\n",
       "      <th>18</th>\n",
       "      <td>071e1ed13c5c</td>\n",
       "      <td>325cacee50f4</td>\n",
       "      <td>Омская область</td>\n",
       "      <td>Москаленки</td>\n",
       "      <td>Личные вещи</td>\n",
       "      <td>Одежда, обувь, аксессуары</td>\n",
       "      <td>Женская одежда</td>\n",
       "      <td>Верхняя одежда</td>\n",
       "      <td>44–46 (M)</td>\n",
       "      <td>Куртка весенняя(осенняя)</td>\n",
       "      <td>Куртка новая, очень удобная, ценник был утерян...</td>\n",
       "      <td>1000.0</td>\n",
       "      <td>4</td>\n",
       "      <td>2017-03-24</td>\n",
       "      <td>Private</td>\n",
       "      <td>1a60aa7ac1bab4fac1171650369e19d2e6872483d89032...</td>\n",
       "      <td>95.0</td>\n",
       "      <td>0.00000</td>\n",
       "      <td>Omsk oblast</td>\n",
       "      <td>Personal belongings</td>\n",
       "      <td>Clothing, shoes, accessories</td>\n",
       "    </tr>\n",
       "    <tr>\n",
       "      <th>19</th>\n",
       "      <td>0658628930d4</td>\n",
       "      <td>27c2d83b766e</td>\n",
       "      <td>Белгородская область</td>\n",
       "      <td>Белгород</td>\n",
       "      <td>Недвижимость</td>\n",
       "      <td>Дома, дачи, коттеджи</td>\n",
       "      <td>Сниму</td>\n",
       "      <td>Коттедж</td>\n",
       "      <td>На длительный срок</td>\n",
       "      <td>Сниму коттедж</td>\n",
       "      <td>Семейная пара из двух человек снимет коттедж с...</td>\n",
       "      <td>100000.0</td>\n",
       "      <td>5</td>\n",
       "      <td>2017-03-28</td>\n",
       "      <td>Private</td>\n",
       "      <td>NaN</td>\n",
       "      <td>NaN</td>\n",
       "      <td>0.10342</td>\n",
       "      <td>Belgorod oblast</td>\n",
       "      <td>Real estate</td>\n",
       "      <td>Houses, villas, cottages</td>\n",
       "    </tr>\n",
       "  </tbody>\n",
       "</table>\n",
       "</div>"
      ],
      "text/plain": [
       "         item_id       user_id                 region              city  \\\n",
       "0   b912c3c6a6ad  e00f8ff2eaf9   Свердловская область      Екатеринбург   \n",
       "1   2dac0150717d  39aeb48f0017      Самарская область            Самара   \n",
       "2   ba83aefab5dc  91e2f88dd6e3     Ростовская область    Ростов-на-Дону   \n",
       "3   02996f1dd2ea  bf5cccea572d              Татарстан  Набережные Челны   \n",
       "4   7c90be56d2ab  ef50846afc0b  Волгоградская область         Волгоград   \n",
       "5   51e0962387f7  bbfad0b1ad0a              Татарстан         Чистополь   \n",
       "6   c4f260a2b48a  08f469d2e6f7  Нижегородская область   Нижний Новгород   \n",
       "7   6b71309d6a8a  fef86baa002c          Пермский край             Пермь   \n",
       "8   c5b969cb63a2  055825270190   Оренбургская область          Оренбург   \n",
       "9   b1570962e68c  f9e8f831d94c  Нижегородская область   Нижний Новгород   \n",
       "10  d5480bb4a6e4  d46200940f37    Ханты-Мансийский АО    Ханты-Мансийск   \n",
       "11  86f41f50d8c1  35c2b6b654e0      Тюменская область      Заводоуковск   \n",
       "12  645237cb3601  fc9a38b79414   Оренбургская область          Оренбург   \n",
       "13  df2116f34563  3ce3c2318b16     Ростовская область    Ростов-на-Дону   \n",
       "14  a97943ae8158  f643d87dd23c           Башкортостан           Туймазы   \n",
       "15  4b6abd0a5921  94de2b374869              Татарстан            Казань   \n",
       "16  7896ef8fe482  007c6bd858cb     Краснодарский край         Краснодар   \n",
       "17  7882b1e77748  7a3fda0cdf94  Новосибирская область       Новосибирск   \n",
       "18  071e1ed13c5c  325cacee50f4         Омская область        Москаленки   \n",
       "19  0658628930d4  27c2d83b766e   Белгородская область          Белгород   \n",
       "\n",
       "   parent_category_name               category_name  \\\n",
       "0           Личные вещи  Товары для детей и игрушки   \n",
       "1       Для дома и дачи           Мебель и интерьер   \n",
       "2   Бытовая электроника               Аудио и видео   \n",
       "3           Личные вещи  Товары для детей и игрушки   \n",
       "4             Транспорт                  Автомобили   \n",
       "5           Личные вещи  Товары для детей и игрушки   \n",
       "6       Для дома и дачи      Ремонт и строительство   \n",
       "7           Личные вещи   Одежда, обувь, аксессуары   \n",
       "8           Личные вещи   Одежда, обувь, аксессуары   \n",
       "9           Личные вещи      Детская одежда и обувь   \n",
       "10         Недвижимость                    Квартиры   \n",
       "11          Личные вещи   Одежда, обувь, аксессуары   \n",
       "12          Личные вещи  Товары для детей и игрушки   \n",
       "13  Бытовая электроника       Товары для компьютера   \n",
       "14             Животные                      Собаки   \n",
       "15          Личные вещи   Одежда, обувь, аксессуары   \n",
       "16            Транспорт                  Автомобили   \n",
       "17          Личные вещи  Товары для детей и игрушки   \n",
       "18          Личные вещи   Одежда, обувь, аксессуары   \n",
       "19         Недвижимость        Дома, дачи, коттеджи   \n",
       "\n",
       "                        param_1             param_2             param_3  \\\n",
       "0     Постельные принадлежности                 NaN                 NaN   \n",
       "1                        Другое                 NaN                 NaN   \n",
       "2   Видео, DVD и Blu-ray плееры                 NaN                 NaN   \n",
       "3          Автомобильные кресла                 NaN                 NaN   \n",
       "4                    С пробегом          ВАЗ (LADA)                2110   \n",
       "5          Автомобильные кресла                 NaN                 NaN   \n",
       "6            Сантехника и сауна                 NaN                 NaN   \n",
       "7                Женская одежда              Джинсы                  26   \n",
       "8                Женская одежда       Платья и юбки          > 50 (XXL)   \n",
       "9                   Для девочек               Обувь                  25   \n",
       "10                         Сдам  На длительный срок                   1   \n",
       "11               Женская одежда              Джинсы         Без размера   \n",
       "12             Товары для школы                 NaN                 NaN   \n",
       "13                     Мониторы                 NaN                 NaN   \n",
       "14             Немецкая овчарка                 NaN                 NaN   \n",
       "15               Женская одежда       Платья и юбки           42–44 (S)   \n",
       "16                   С пробегом           Chevrolet               Lanos   \n",
       "17                      Игрушки                 NaN                 NaN   \n",
       "18               Женская одежда      Верхняя одежда           44–46 (M)   \n",
       "19                        Сниму             Коттедж  На длительный срок   \n",
       "\n",
       "                                            title  \\\n",
       "0                           Кокоби(кокон для сна)   \n",
       "1                               Стойка для Одежды   \n",
       "2                                  Philips bluray   \n",
       "3                                      Автокресло   \n",
       "4                                  ВАЗ 2110, 2003   \n",
       "5                                     Авто люлька   \n",
       "6   Водонагреватель 100 литров нержавейка плоский   \n",
       "7                                Бойфренды colins   \n",
       "8                                          Платье   \n",
       "9               Полу ботиночки замш натур.Бамбини   \n",
       "10                   1-к квартира, 25 м², 2/2 эт.   \n",
       "11                                         Джинсы   \n",
       "12            Атласы и Контурныя карты за 8 класс   \n",
       "13                              Монитор acer 18.5   \n",
       "14               Продаются щенки немецкой овчарки   \n",
       "15                           Платье женское новое   \n",
       "16                          Chevrolet Lanos, 2008   \n",
       "17                               Объемная цифра 2   \n",
       "18                       Куртка весенняя(осенняя)   \n",
       "19                                  Сниму коттедж   \n",
       "\n",
       "                                          description     price  \\\n",
       "0   Кокон для сна малыша,пользовались меньше месяц...     400.0   \n",
       "1           Стойка для одежды, под вешалки. С бутика.    3000.0   \n",
       "2   В хорошем состоянии, домашний кинотеатр с blu ...    4000.0   \n",
       "3                              Продам кресло от0-25кг    2200.0   \n",
       "4                            Все вопросы по телефону.   40000.0   \n",
       "5                                 В хорошем состоянии    1300.0   \n",
       "6   Электро водонагреватель накопительный на 100 л...   11000.0   \n",
       "7                      Бойфренды в хорошем состоянии.     500.0   \n",
       "8                            54 раз мер очень удобное     500.0   \n",
       "9   По стельке 15.5см мерить приокский район. Цвет...     400.0   \n",
       "10  Сдается однокомнатная мебелированная квартира ...   18000.0   \n",
       "11                                                NaN       1.0   \n",
       "12  Атлас история нового времени,19 век./\\nКонтурн...      70.0   \n",
       "13   Продам манитор 18.5 v193HQV. В хорошем состоянии    2500.0   \n",
       "14             родились 1 февраля,три кобеля и сучка.    5000.0   \n",
       "15  Одето 1 раз на пару часов. Длина 79. Можно кор...     800.0   \n",
       "16  Кондиционер, гидроусилитель руля, электрически...  140000.0   \n",
       "17  Размеры 75*53*15. Основа-картон, декор-гофриро...     500.0   \n",
       "18  Куртка новая, очень удобная, ценник был утерян...    1000.0   \n",
       "19  Семейная пара из двух человек снимет коттедж с...  100000.0   \n",
       "\n",
       "    item_seq_number activation_date user_type  \\\n",
       "0                 2      2017-03-28   Private   \n",
       "1                19      2017-03-26   Private   \n",
       "2                 9      2017-03-20   Private   \n",
       "3               286      2017-03-25   Company   \n",
       "4                 3      2017-03-16   Private   \n",
       "5                 9      2017-03-28   Private   \n",
       "6               125      2017-03-23   Private   \n",
       "7                61      2017-03-25   Private   \n",
       "8                85      2017-03-17   Private   \n",
       "9               136      2017-03-22   Company   \n",
       "10                6      2017-03-25   Private   \n",
       "11                4      2017-03-19      Shop   \n",
       "12               15      2017-03-21   Private   \n",
       "13               47      2017-03-22   Private   \n",
       "14                6      2017-03-23   Private   \n",
       "15               86      2017-03-27   Private   \n",
       "16              201      2017-03-18   Company   \n",
       "17                9      2017-03-20   Private   \n",
       "18                4      2017-03-24   Private   \n",
       "19                5      2017-03-28   Private   \n",
       "\n",
       "                                                image  image_top_1  \\\n",
       "0   d10c7e016e03247a3bf2d13348fe959fe6f436c1caf64c...       1008.0   \n",
       "1   79c9392cc51a9c81c6eb91eceb8e552171db39d7142700...        692.0   \n",
       "2   b7f250ee3f39e1fedd77c141f273703f4a9be59db4b48a...       3032.0   \n",
       "3   e6ef97e0725637ea84e3d203e82dadb43ed3cc0a1c8413...        796.0   \n",
       "4   54a687a3a0fc1d68aed99bdaaf551c5c70b761b16fd0a2...       2264.0   \n",
       "5   eb6ad1231c59d3dc7e4020e724ffe8e4d302023ddcbb99...        796.0   \n",
       "6   0330f6ac561f5db1fa8226dd5e7e127b5671d44d075a98...       2823.0   \n",
       "7   9bab29a519e81c14f4582024adfebd4f11a4ac71d323a6...        567.0   \n",
       "8   75ce06d1f939a31dfb2af8ac55f08fa998fa336d13ee05...        415.0   \n",
       "9   54fb8521135fda77a860bfd2fac6bf46867ab7c06796e3...         46.0   \n",
       "10  645d3fb949cb116a00c596ca1e168d8c5ddd21cdeacc5a...       1396.0   \n",
       "11  5162fdb7d8427738370d3145647d2726546f65631e5de9...        119.0   \n",
       "12  5ba63fecb66633cde074c661e0249e26af5cf370241e13...       1040.0   \n",
       "13  0c84cef077d10e5bb37af78049fb0a593c9f1c7f37f458...       2849.0   \n",
       "14  09ebf4b30bad5857a1f26cd18d907c1e888bbe718bb13d...       2133.0   \n",
       "15  df76951e5cc7073553ea3214fd2024b9f80166828a5356...        408.0   \n",
       "16  5244375e00cb2baefa50f4b01156cc492f8733b93c6cba...       1118.0   \n",
       "17  0cdd241246bd930c0026315484d87817c47ce4d586d99b...        983.0   \n",
       "18  1a60aa7ac1bab4fac1171650369e19d2e6872483d89032...         95.0   \n",
       "19                                                NaN          NaN   \n",
       "\n",
       "    deal_probability                       region_en  parent_category_name_en  \\\n",
       "0            0.12789               Sverdlovsk oblast      Personal belongings   \n",
       "1            0.00000                   Samara oblast  For the home and garden   \n",
       "2            0.43177                   Rostov oblast     Consumer electronics   \n",
       "3            0.80323                       Tatarstan      Personal belongings   \n",
       "4            0.20797                Volgograd oblast                Transport   \n",
       "5            0.80323                       Tatarstan      Personal belongings   \n",
       "6            0.00000          Nizhny Novgorod oblast  For the home and garden   \n",
       "7            0.80323                       Perm Krai      Personal belongings   \n",
       "8            0.00000                 Orenburg oblast      Personal belongings   \n",
       "9            0.00000          Nizhny Novgorod oblast      Personal belongings   \n",
       "10           0.58853   Khanty-Mansi Autonomous Okrug              Real estate   \n",
       "11           0.00000                   Tyumen oblast      Personal belongings   \n",
       "12           0.13858                 Orenburg oblast      Personal belongings   \n",
       "13           0.00000                   Rostov oblast     Consumer electronics   \n",
       "14           0.00000                   Bashkortostan                  Animals   \n",
       "15           0.00000                       Tatarstan      Personal belongings   \n",
       "16           0.32100                  Krasnodar Krai                Transport   \n",
       "17           0.00000              Novosibirsk oblast      Personal belongings   \n",
       "18           0.00000                     Omsk oblast      Personal belongings   \n",
       "19           0.10342                 Belgorod oblast              Real estate   \n",
       "\n",
       "                 category_name_en  \n",
       "0    Children's products and toys  \n",
       "1          Furniture and interior  \n",
       "2                 Audio and video  \n",
       "3    Children's products and toys  \n",
       "4                            Cars  \n",
       "5    Children's products and toys  \n",
       "6         Repair and construction  \n",
       "7    Clothing, shoes, accessories  \n",
       "8    Clothing, shoes, accessories  \n",
       "9   Children's clothing and shoes  \n",
       "10                     Apartments  \n",
       "11   Clothing, shoes, accessories  \n",
       "12   Children's products and toys  \n",
       "13          Products for computer  \n",
       "14                           Dogs  \n",
       "15   Clothing, shoes, accessories  \n",
       "16                           Cars  \n",
       "17   Children's products and toys  \n",
       "18   Clothing, shoes, accessories  \n",
       "19       Houses, villas, cottages  "
      ]
     },
     "execution_count": 18,
     "metadata": {},
     "output_type": "execute_result"
    }
   ],
   "source": [
    "train_df.head(20)"
   ]
  },
  {
   "cell_type": "markdown",
   "metadata": {
    "_cell_guid": "8e735a3e-e68e-446f-a926-4690132e9fc5",
    "_uuid": "3706ed011cdb10b40c23fcdf3007adf21908f4c6"
   },
   "source": [
    "The train dataset description is as follows:\n",
    "\n",
    "* item_id - Ad id.\n",
    "* user_id - User id.\n",
    "* region - Ad region.\n",
    "* city - Ad city.\n",
    "* parent_category_name - Top level ad category as classified by Avito's ad model.\n",
    "* category_name - Fine grain ad category as classified by Avito's ad model.\n",
    "* param_1 - Optional parameter from Avito's ad model.\n",
    "* param_2 - Optional parameter from Avito's ad model.\n",
    "* param_3 - Optional parameter from Avito's ad model.\n",
    "* title - Ad title.\n",
    "* description - Ad description.\n",
    "* price - Ad price.\n",
    "* item_seq_number - Ad sequential number for user.\n",
    "* activation_date- Date ad was placed.\n",
    "* user_type - User type.\n",
    "* image - Id code of image. Ties to a jpg file in train_jpg. Not every ad has an image.\n",
    "* image_top_1 - Avito's classification code for the image.\n",
    "* deal_probability - The target variable. This is the likelihood that an ad actually sold something. It's not possible to verify every transaction with certainty, so this column's value can be any float from zero to one.\n",
    "\n",
    "So deal probability is our target variable and  is a float value between 0 and 1 as per the data page. Let us have a look at it. "
   ]
  },
  {
   "cell_type": "code",
   "execution_count": 6,
   "metadata": {
    "_cell_guid": "ed12720d-7c7f-48b7-a8e2-852808a91c98",
    "_kg_hide-input": true,
    "_uuid": "1185a4a591621e9ccb4df4f46fbc45e6a9c3d11e"
   },
   "outputs": [
    {
     "data": {
      "image/png": "[encoded data removed]",
      "text/plain": [
       "<matplotlib.figure.Figure at 0x19b0427b6a0>"
      ]
     },
     "metadata": {},
     "output_type": "display_data"
    },
    {
     "data": {
      "image/png": "[encoded data removed]",
      "text/plain": [
       "<matplotlib.figure.Figure at 0x19b0432b160>"
      ]
     },
     "metadata": {},
     "output_type": "display_data"
    }
   ],
   "source": [
    "plt.figure(figsize=(12,8))\n",
    "sns.distplot(train_df[\"deal_probability\"].values, bins=100, kde=False)\n",
    "plt.xlabel('Deal Probility', fontsize=12)\n",
    "plt.title(\"Deal Probability Histogram\", fontsize=14)\n",
    "plt.show()\n",
    "\n",
    "plt.figure(figsize=(8,6))\n",
    "plt.scatter(range(train_df.shape[0]), np.sort(train_df['deal_probability'].values))\n",
    "plt.xlabel('index', fontsize=12)\n",
    "plt.ylabel('deal probability', fontsize=12)\n",
    "plt.title(\"Deal Probability Distribution\", fontsize=14)\n",
    "plt.show()"
   ]
  },
  {
   "cell_type": "markdown",
   "metadata": {
    "_cell_guid": "54abad60-32a5-42bb-b724-3900ed1a27a8",
    "_uuid": "214fecd31317940513ebf7e800802fcac688db5b"
   },
   "source": [
    "So almost 100K Ads has 0 probaility (which means it did not sell anything) and few ads have a probability of 1. Rest of the deal probabilities have values in between. \n",
    "\n",
    "**Region wise distribution of Ads:**\n",
    "\n",
    "Let us look at the region wise distribution of ads. "
   ]
  },
  {
   "cell_type": "code",
   "execution_count": 7,
   "metadata": {
    "_cell_guid": "7c3ad529-9e3a-4f8c-87ed-10576962aa4e",
    "_kg_hide-input": true,
    "_uuid": "e5e7c28f647efd43b386d82f7988538b6d04be2a"
   },
   "outputs": [],
   "source": [
    "from io import StringIO\n",
    "\n",
    "temp_data = StringIO(\"\"\"\n",
    "region,region_en\n",
    "Свердловская область, Sverdlovsk oblast\n",
    "Самарская область, Samara oblast\n",
    "Ростовская область, Rostov oblast\n",
    "Татарстан, Tatarstan\n",
    "Волгоградская область, Volgograd oblast\n",
    "Нижегородская область, Nizhny Novgorod oblast\n",
    "Пермский край, Perm Krai\n",
    "Оренбургская область, Orenburg oblast\n",
    "Ханты-Мансийский АО, Khanty-Mansi Autonomous Okrug\n",
    "Тюменская область, Tyumen oblast\n",
    "Башкортостан, Bashkortostan\n",
    "Краснодарский край, Krasnodar Krai\n",
    "Новосибирская область, Novosibirsk oblast\n",
    "Омская область, Omsk oblast\n",
    "Белгородская область, Belgorod oblast\n",
    "Челябинская область, Chelyabinsk oblast\n",
    "Воронежская область, Voronezh oblast\n",
    "Кемеровская область, Kemerovo oblast\n",
    "Саратовская область, Saratov oblast\n",
    "Владимирская область, Vladimir oblast\n",
    "Калининградская область, Kaliningrad oblast\n",
    "Красноярский край, Krasnoyarsk Krai\n",
    "Ярославская область, Yaroslavl oblast\n",
    "Удмуртия, Udmurtia\n",
    "Алтайский край, Altai Krai\n",
    "Иркутская область, Irkutsk oblast\n",
    "Ставропольский край, Stavropol Krai\n",
    "Тульская область, Tula oblast\n",
    "\"\"\")\n",
    "\n",
    "region_df = pd.read_csv(temp_data)\n",
    "train_df = pd.merge(train_df, region_df, how=\"left\", on=\"region\")"
   ]
  },
  {
   "cell_type": "code",
   "execution_count": 8,
   "metadata": {
    "_cell_guid": "9719351d-0fb1-4817-9982-1b7ea4e7d0f0",
    "_kg_hide-input": true,
    "_uuid": "8ea1f92f35123bcc3fc8b7b32fb58e89ce40dea2"
   },
   "outputs": [
    {
     "data": {
      "application/vnd.plotly.v1+json": {
       "data": [
        {
         "labels": [
          " Krasnodar Krai",
          " Sverdlovsk oblast",
          " Rostov oblast",
          " Tatarstan",
          " Chelyabinsk oblast",
          " Nizhny Novgorod oblast",
          " Samara oblast",
          " Bashkortostan",
          " Perm Krai",
          " Novosibirsk oblast",
          " Krasnoyarsk Krai",
          " Saratov oblast",
          " Volgograd oblast",
          " Kemerovo oblast",
          " Voronezh oblast",
          " Irkutsk oblast",
          " Omsk oblast",
          " Altai Krai",
          " Stavropol Krai",
          " Tyumen oblast",
          " Yaroslavl oblast",
          " Kaliningrad oblast",
          " Orenburg oblast",
          " Belgorod oblast",
          " Khanty-Mansi Autonomous Okrug",
          " Udmurtia",
          " Vladimir oblast",
          " Tula oblast"
         ],
         "type": "pie",
         "values": [
          9.406261972670386,
          6.283989080924609,
          5.9860026180239245,
          5.4065918862543105,
          5.21070569579839,
          4.898352028436422,
          4.882654527265761,
          4.542364629006854,
          4.1707462432420925,
          4.156246009109872,
          3.5546858371291132,
          3.3021290068536886,
          3.2590939083053083,
          2.9688896811544847,
          2.9343684815461244,
          2.928648205695798,
          2.856080520199225,
          2.761695968668852,
          2.6065168575199014,
          2.3553568387893233,
          2.1826178110765824,
          2.178759950619386,
          1.9490842237452641,
          1.9201502703162912,
          1.9095744114767357,
          1.8981338597760844,
          1.7786732152739348,
          1.7116262611212807
         ]
        }
       ],
       "layout": {
        "height": 900,
        "title": "Region distribution",
        "width": 900
       }
      },
      "text/html": [
       "<div id=\"91be48a2-c63a-4b83-90b6-b6e991a6ccc1\" style=\"height: 900px; width: 900px;\" class=\"plotly-graph-div\"></div><script type=\"text/javascript\">require([\"plotly\"], function(Plotly) { window.PLOTLYENV=window.PLOTLYENV || {};window.PLOTLYENV.BASE_URL=\"https://plot.ly\";Plotly.newPlot(\"91be48a2-c63a-4b83-90b6-b6e991a6ccc1\", [{\"values\": [9.406261972670386, 6.283989080924609, 5.9860026180239245, 5.4065918862543105, 5.21070569579839, 4.898352028436422, 4.882654527265761, 4.542364629006854, 4.1707462432420925, 4.156246009109872, 3.5546858371291132, 3.3021290068536886, 3.2590939083053083, 2.9688896811544847, 2.9343684815461244, 2.928648205695798, 2.856080520199225, 2.761695968668852, 2.6065168575199014, 2.3553568387893233, 2.1826178110765824, 2.178759950619386, 1.9490842237452641, 1.9201502703162912, 1.9095744114767357, 1.8981338597760844, 1.7786732152739348, 1.7116262611212807], \"type\": \"pie\", \"labels\": [\" Krasnodar Krai\", \" Sverdlovsk oblast\", \" Rostov oblast\", \" Tatarstan\", \" Chelyabinsk oblast\", \" Nizhny Novgorod oblast\", \" Samara oblast\", \" Bashkortostan\", \" Perm Krai\", \" Novosibirsk oblast\", \" Krasnoyarsk Krai\", \" Saratov oblast\", \" Volgograd oblast\", \" Kemerovo oblast\", \" Voronezh oblast\", \" Irkutsk oblast\", \" Omsk oblast\", \" Altai Krai\", \" Stavropol Krai\", \" Tyumen oblast\", \" Yaroslavl oblast\", \" Kaliningrad oblast\", \" Orenburg oblast\", \" Belgorod oblast\", \" Khanty-Mansi Autonomous Okrug\", \" Udmurtia\", \" Vladimir oblast\", \" Tula oblast\"]}], {\"height\": 900, \"title\": \"Region distribution\", \"width\": 900}, {\"linkText\": \"Export to plot.ly\", \"showLink\": true})});</script>"
      ],
      "text/vnd.plotly.v1+html": [
       "<div id=\"91be48a2-c63a-4b83-90b6-b6e991a6ccc1\" style=\"height: 900px; width: 900px;\" class=\"plotly-graph-div\"></div><script type=\"text/javascript\">require([\"plotly\"], function(Plotly) { window.PLOTLYENV=window.PLOTLYENV || {};window.PLOTLYENV.BASE_URL=\"https://plot.ly\";Plotly.newPlot(\"91be48a2-c63a-4b83-90b6-b6e991a6ccc1\", [{\"values\": [9.406261972670386, 6.283989080924609, 5.9860026180239245, 5.4065918862543105, 5.21070569579839, 4.898352028436422, 4.882654527265761, 4.542364629006854, 4.1707462432420925, 4.156246009109872, 3.5546858371291132, 3.3021290068536886, 3.2590939083053083, 2.9688896811544847, 2.9343684815461244, 2.928648205695798, 2.856080520199225, 2.761695968668852, 2.6065168575199014, 2.3553568387893233, 2.1826178110765824, 2.178759950619386, 1.9490842237452641, 1.9201502703162912, 1.9095744114767357, 1.8981338597760844, 1.7786732152739348, 1.7116262611212807], \"type\": \"pie\", \"labels\": [\" Krasnodar Krai\", \" Sverdlovsk oblast\", \" Rostov oblast\", \" Tatarstan\", \" Chelyabinsk oblast\", \" Nizhny Novgorod oblast\", \" Samara oblast\", \" Bashkortostan\", \" Perm Krai\", \" Novosibirsk oblast\", \" Krasnoyarsk Krai\", \" Saratov oblast\", \" Volgograd oblast\", \" Kemerovo oblast\", \" Voronezh oblast\", \" Irkutsk oblast\", \" Omsk oblast\", \" Altai Krai\", \" Stavropol Krai\", \" Tyumen oblast\", \" Yaroslavl oblast\", \" Kaliningrad oblast\", \" Orenburg oblast\", \" Belgorod oblast\", \" Khanty-Mansi Autonomous Okrug\", \" Udmurtia\", \" Vladimir oblast\", \" Tula oblast\"]}], {\"height\": 900, \"title\": \"Region distribution\", \"width\": 900}, {\"linkText\": \"Export to plot.ly\", \"showLink\": true})});</script>"
      ]
     },
     "metadata": {},
     "output_type": "display_data"
    }
   ],
   "source": [
    "temp_series = train_df['region_en'].value_counts()\n",
    "labels = (np.array(temp_series.index))\n",
    "sizes = (np.array((temp_series / temp_series.sum())*100))\n",
    "\n",
    "trace = go.Pie(labels=labels, values=sizes)\n",
    "layout = go.Layout(\n",
    "    title='Region distribution',\n",
    "    width=900,\n",
    "    height=900,\n",
    ")\n",
    "data = [trace]\n",
    "fig = go.Figure(data=data, layout=layout)\n",
    "py.iplot(fig, filename=\"region\")"
   ]
  },
  {
   "cell_type": "markdown",
   "metadata": {
    "_cell_guid": "a9376c47-abe1-458a-8d6e-e3274ed92ed1",
    "_uuid": "bc7bde8303ef4e84681312f1a535ce7feeb48db5"
   },
   "source": [
    "The regions have percentage of ads between 1.71% to 9.41%. So the top regions are:\n",
    "1. Krasnodar region - 9.41%\n",
    "2. Sverdlovsk region - 6.28%\n",
    "3. Rostov region - 5.99%\n"
   ]
  },
  {
   "cell_type": "code",
   "execution_count": 9,
   "metadata": {
    "_cell_guid": "86624ab8-3fec-4c89-aace-bc0952421c4c",
    "_kg_hide-input": true,
    "_uuid": "5fa1f0472c9ee994ec18d039192948508a30b398"
   },
   "outputs": [
    {
     "data": {
      "image/png": "[encoded data removed]",
      "text/plain": [
       "<matplotlib.figure.Figure at 0x19b043ec940>"
      ]
     },
     "metadata": {},
     "output_type": "display_data"
    }
   ],
   "source": [
    "plt.figure(figsize=(12,8))\n",
    "sns.boxplot(y=\"region_en\", x=\"deal_probability\", data=train_df)\n",
    "plt.xlabel('Deal probability', fontsize=12)\n",
    "plt.ylabel('Region', fontsize=12)\n",
    "plt.title(\"Deal probability by region\")\n",
    "plt.xticks(rotation='vertical')\n",
    "plt.show()"
   ]
  },
  {
   "cell_type": "markdown",
   "metadata": {
    "_cell_guid": "54cc5a3b-18c5-4af7-ad87-472830f07af3",
    "_uuid": "8e644697dc52117dd85778550f108deb6fbdc1d2"
   },
   "source": [
    "**City wise distribution of Ads:**\n",
    "\n",
    "Now let us have a look at the top 20 cities present in the dataset."
   ]
  },
  {
   "cell_type": "code",
   "execution_count": 11,
   "metadata": {
    "_cell_guid": "24d6c30c-4bec-4bf0-a669-df6da219d214",
    "_kg_hide-input": true,
    "_uuid": "7b2bf819d55d8832f52d98de92ce9b81902e1f64"
   },
   "outputs": [
    {
     "data": {
      "application/vnd.plotly.v1+json": {
       "data": [
        {
         "marker": {
          "color": [
           24659,
           25098,
           27460,
           28490,
           30451,
           31977,
           33463,
           36404,
           37932,
           41355,
           41412,
           41875,
           46663,
           46720,
           48380,
           52010,
           52323,
           56929,
           63602,
           63638
          ],
          "colorscale": "Blues",
          "reversescale": true
         },
         "orientation": "h",
         "type": "bar",
         "x": [
          24659,
          25098,
          27460,
          28490,
          30451,
          31977,
          33463,
          36404,
          37932,
          41355,
          41412,
          41875,
          46663,
          46720,
          48380,
          52010,
          52323,
          56929,
          63602,
          63638
         ],
         "y": [
          "Иркутск",
          "Ярославль",
          "Барнаул",
          "Калининград",
          "Тюмень",
          "Саратов",
          "Волгоград",
          "Воронеж",
          "Красноярск",
          "Уфа",
          "Омск",
          "Самара",
          "Казань",
          "Пермь",
          "Челябинск",
          "Нижний Новгород",
          "Ростов-на-Дону",
          "Новосибирск",
          "Екатеринбург",
          "Краснодар"
         ]
        }
       ],
       "layout": {
        "title": "City distribution of Ads"
       }
      },
      "text/html": [
       "<div id=\"28cbd773-b748-4112-964b-3399697f2295\" style=\"height: 525px; width: 100%;\" class=\"plotly-graph-div\"></div><script type=\"text/javascript\">require([\"plotly\"], function(Plotly) { window.PLOTLYENV=window.PLOTLYENV || {};window.PLOTLYENV.BASE_URL=\"https://plot.ly\";Plotly.newPlot(\"28cbd773-b748-4112-964b-3399697f2295\", [{\"orientation\": \"h\", \"x\": [24659, 25098, 27460, 28490, 30451, 31977, 33463, 36404, 37932, 41355, 41412, 41875, 46663, 46720, 48380, 52010, 52323, 56929, 63602, 63638], \"type\": \"bar\", \"marker\": {\"colorscale\": \"Blues\", \"reversescale\": true, \"color\": [24659, 25098, 27460, 28490, 30451, 31977, 33463, 36404, 37932, 41355, 41412, 41875, 46663, 46720, 48380, 52010, 52323, 56929, 63602, 63638]}, \"y\": [\"\\u0418\\u0440\\u043a\\u0443\\u0442\\u0441\\u043a\", \"\\u042f\\u0440\\u043e\\u0441\\u043b\\u0430\\u0432\\u043b\\u044c\", \"\\u0411\\u0430\\u0440\\u043d\\u0430\\u0443\\u043b\", \"\\u041a\\u0430\\u043b\\u0438\\u043d\\u0438\\u043d\\u0433\\u0440\\u0430\\u0434\", \"\\u0422\\u044e\\u043c\\u0435\\u043d\\u044c\", \"\\u0421\\u0430\\u0440\\u0430\\u0442\\u043e\\u0432\", \"\\u0412\\u043e\\u043b\\u0433\\u043e\\u0433\\u0440\\u0430\\u0434\", \"\\u0412\\u043e\\u0440\\u043e\\u043d\\u0435\\u0436\", \"\\u041a\\u0440\\u0430\\u0441\\u043d\\u043e\\u044f\\u0440\\u0441\\u043a\", \"\\u0423\\u0444\\u0430\", \"\\u041e\\u043c\\u0441\\u043a\", \"\\u0421\\u0430\\u043c\\u0430\\u0440\\u0430\", \"\\u041a\\u0430\\u0437\\u0430\\u043d\\u044c\", \"\\u041f\\u0435\\u0440\\u043c\\u044c\", \"\\u0427\\u0435\\u043b\\u044f\\u0431\\u0438\\u043d\\u0441\\u043a\", \"\\u041d\\u0438\\u0436\\u043d\\u0438\\u0439 \\u041d\\u043e\\u0432\\u0433\\u043e\\u0440\\u043e\\u0434\", \"\\u0420\\u043e\\u0441\\u0442\\u043e\\u0432-\\u043d\\u0430-\\u0414\\u043e\\u043d\\u0443\", \"\\u041d\\u043e\\u0432\\u043e\\u0441\\u0438\\u0431\\u0438\\u0440\\u0441\\u043a\", \"\\u0415\\u043a\\u0430\\u0442\\u0435\\u0440\\u0438\\u043d\\u0431\\u0443\\u0440\\u0433\", \"\\u041a\\u0440\\u0430\\u0441\\u043d\\u043e\\u0434\\u0430\\u0440\"]}], {\"title\": \"City distribution of Ads\"}, {\"linkText\": \"Export to plot.ly\", \"showLink\": true})});</script>"
      ],
      "text/vnd.plotly.v1+html": [
       "<div id=\"28cbd773-b748-4112-964b-3399697f2295\" style=\"height: 525px; width: 100%;\" class=\"plotly-graph-div\"></div><script type=\"text/javascript\">require([\"plotly\"], function(Plotly) { window.PLOTLYENV=window.PLOTLYENV || {};window.PLOTLYENV.BASE_URL=\"https://plot.ly\";Plotly.newPlot(\"28cbd773-b748-4112-964b-3399697f2295\", [{\"orientation\": \"h\", \"x\": [24659, 25098, 27460, 28490, 30451, 31977, 33463, 36404, 37932, 41355, 41412, 41875, 46663, 46720, 48380, 52010, 52323, 56929, 63602, 63638], \"type\": \"bar\", \"marker\": {\"colorscale\": \"Blues\", \"reversescale\": true, \"color\": [24659, 25098, 27460, 28490, 30451, 31977, 33463, 36404, 37932, 41355, 41412, 41875, 46663, 46720, 48380, 52010, 52323, 56929, 63602, 63638]}, \"y\": [\"\\u0418\\u0440\\u043a\\u0443\\u0442\\u0441\\u043a\", \"\\u042f\\u0440\\u043e\\u0441\\u043b\\u0430\\u0432\\u043b\\u044c\", \"\\u0411\\u0430\\u0440\\u043d\\u0430\\u0443\\u043b\", \"\\u041a\\u0430\\u043b\\u0438\\u043d\\u0438\\u043d\\u0433\\u0440\\u0430\\u0434\", \"\\u0422\\u044e\\u043c\\u0435\\u043d\\u044c\", \"\\u0421\\u0430\\u0440\\u0430\\u0442\\u043e\\u0432\", \"\\u0412\\u043e\\u043b\\u0433\\u043e\\u0433\\u0440\\u0430\\u0434\", \"\\u0412\\u043e\\u0440\\u043e\\u043d\\u0435\\u0436\", \"\\u041a\\u0440\\u0430\\u0441\\u043d\\u043e\\u044f\\u0440\\u0441\\u043a\", \"\\u0423\\u0444\\u0430\", \"\\u041e\\u043c\\u0441\\u043a\", \"\\u0421\\u0430\\u043c\\u0430\\u0440\\u0430\", \"\\u041a\\u0430\\u0437\\u0430\\u043d\\u044c\", \"\\u041f\\u0435\\u0440\\u043c\\u044c\", \"\\u0427\\u0435\\u043b\\u044f\\u0431\\u0438\\u043d\\u0441\\u043a\", \"\\u041d\\u0438\\u0436\\u043d\\u0438\\u0439 \\u041d\\u043e\\u0432\\u0433\\u043e\\u0440\\u043e\\u0434\", \"\\u0420\\u043e\\u0441\\u0442\\u043e\\u0432-\\u043d\\u0430-\\u0414\\u043e\\u043d\\u0443\", \"\\u041d\\u043e\\u0432\\u043e\\u0441\\u0438\\u0431\\u0438\\u0440\\u0441\\u043a\", \"\\u0415\\u043a\\u0430\\u0442\\u0435\\u0440\\u0438\\u043d\\u0431\\u0443\\u0440\\u0433\", \"\\u041a\\u0440\\u0430\\u0441\\u043d\\u043e\\u0434\\u0430\\u0440\"]}], {\"title\": \"City distribution of Ads\"}, {\"linkText\": \"Export to plot.ly\", \"showLink\": true})});</script>"
      ]
     },
     "metadata": {},
     "output_type": "display_data"
    }
   ],
   "source": [
    "cnt_srs = train_df['city'].value_counts().head(20)\n",
    "trace = go.Bar(\n",
    "    y=cnt_srs.index[::-1],\n",
    "    x=cnt_srs.values[::-1],\n",
    "    orientation = 'h',\n",
    "    marker=dict(\n",
    "        color=cnt_srs.values[::-1],\n",
    "        colorscale = 'Blues',\n",
    "        reversescale = True\n",
    "    ),\n",
    ")\n",
    "\n",
    "layout = dict(\n",
    "    title='City distribution of Ads',\n",
    "    )\n",
    "data = [trace]\n",
    "fig = go.Figure(data=data, layout=layout)\n",
    "py.iplot(fig, filename=\"CityAds\")"
   ]
  },
  {
   "cell_type": "markdown",
   "metadata": {
    "_cell_guid": "b52935e3-5d8f-41c7-bee9-6fbaed7304f4",
    "_uuid": "2e23a7fc1a6c656011d3e65f14df1e412301e2ca"
   },
   "source": [
    "So the top cities where the ads are shown are\n",
    "1. Krasnodar\n",
    "2. Ekaterinburg\n",
    "3. Novosibirsk"
   ]
  },
  {
   "cell_type": "markdown",
   "metadata": {
    "_cell_guid": "e4cefc89-d06c-41e6-bd1e-a8c847278ad3",
    "_uuid": "ed40f2802a52608b6750dae893f4bea6e65d3182"
   },
   "source": [
    "**Parent Category Name:**\n",
    "\n",
    "Now let us look at the distribution of parent cateory names."
   ]
  },
  {
   "cell_type": "code",
   "execution_count": 12,
   "metadata": {
    "_cell_guid": "6e87267d-a73c-40ac-bd0f-15472fcb7eea",
    "_kg_hide-input": true,
    "_uuid": "996f4292fb6054ef38bd3552ec6f5ecc2199ba72"
   },
   "outputs": [],
   "source": [
    "temp_data = StringIO(\"\"\"\n",
    "parent_category_name,parent_category_name_en\n",
    "Личные вещи,Personal belongings\n",
    "Для дома и дачи,For the home and garden\n",
    "Бытовая электроника,Consumer electronics\n",
    "Недвижимость,Real estate\n",
    "Хобби и отдых,Hobbies & leisure\n",
    "Транспорт,Transport\n",
    "Услуги,Services\n",
    "Животные,Animals\n",
    "Для бизнеса,For business\n",
    "\"\"\")\n",
    "\n",
    "temp_df = pd.read_csv(temp_data)\n",
    "train_df = pd.merge(train_df, temp_df, on=\"parent_category_name\", how=\"left\")"
   ]
  },
  {
   "cell_type": "code",
   "execution_count": 13,
   "metadata": {
    "_cell_guid": "3273198f-583e-457a-985c-5ee730331a8b",
    "_kg_hide-input": true,
    "_uuid": "f15f336da01b67016cecaa609766ab6d1cb4899e"
   },
   "outputs": [
    {
     "data": {
      "application/vnd.plotly.v1+json": {
       "data": [
        {
         "labels": [
          "Personal belongings",
          "For the home and garden",
          "Consumer electronics",
          "Real estate",
          "Hobbies & leisure",
          "Transport",
          "Services",
          "Animals",
          "For business"
         ],
         "type": "pie",
         "values": [
          46.40227906432251,
          11.894382423055639,
          11.507598654803967,
          10.189407645481248,
          5.721007513515815,
          5.310477949001745,
          4.282557681665319,
          3.49003341705334,
          1.2022556511004214
         ]
        }
       ],
       "layout": {
        "height": 900,
        "title": "Parent Category distribution",
        "width": 900
       }
      },
      "text/html": [
       "<div id=\"ee46f570-70e2-421e-8b3e-5c970a803933\" style=\"height: 900px; width: 900px;\" class=\"plotly-graph-div\"></div><script type=\"text/javascript\">require([\"plotly\"], function(Plotly) { window.PLOTLYENV=window.PLOTLYENV || {};window.PLOTLYENV.BASE_URL=\"https://plot.ly\";Plotly.newPlot(\"ee46f570-70e2-421e-8b3e-5c970a803933\", [{\"values\": [46.40227906432251, 11.894382423055639, 11.507598654803967, 10.189407645481248, 5.721007513515815, 5.310477949001745, 4.282557681665319, 3.49003341705334, 1.2022556511004214], \"type\": \"pie\", \"labels\": [\"Personal belongings\", \"For the home and garden\", \"Consumer electronics\", \"Real estate\", \"Hobbies & leisure\", \"Transport\", \"Services\", \"Animals\", \"For business\"]}], {\"height\": 900, \"title\": \"Parent Category distribution\", \"width\": 900}, {\"linkText\": \"Export to plot.ly\", \"showLink\": true})});</script>"
      ],
      "text/vnd.plotly.v1+html": [
       "<div id=\"ee46f570-70e2-421e-8b3e-5c970a803933\" style=\"height: 900px; width: 900px;\" class=\"plotly-graph-div\"></div><script type=\"text/javascript\">require([\"plotly\"], function(Plotly) { window.PLOTLYENV=window.PLOTLYENV || {};window.PLOTLYENV.BASE_URL=\"https://plot.ly\";Plotly.newPlot(\"ee46f570-70e2-421e-8b3e-5c970a803933\", [{\"values\": [46.40227906432251, 11.894382423055639, 11.507598654803967, 10.189407645481248, 5.721007513515815, 5.310477949001745, 4.282557681665319, 3.49003341705334, 1.2022556511004214], \"type\": \"pie\", \"labels\": [\"Personal belongings\", \"For the home and garden\", \"Consumer electronics\", \"Real estate\", \"Hobbies & leisure\", \"Transport\", \"Services\", \"Animals\", \"For business\"]}], {\"height\": 900, \"title\": \"Parent Category distribution\", \"width\": 900}, {\"linkText\": \"Export to plot.ly\", \"showLink\": true})});</script>"
      ]
     },
     "metadata": {},
     "output_type": "display_data"
    }
   ],
   "source": [
    "temp_series = train_df['parent_category_name_en'].value_counts()\n",
    "labels = (np.array(temp_series.index))\n",
    "sizes = (np.array((temp_series / temp_series.sum())*100))\n",
    "\n",
    "trace = go.Pie(labels=labels, values=sizes)\n",
    "layout = go.Layout(\n",
    "    title='Parent Category distribution',\n",
    "    width=900,\n",
    "    height=900,\n",
    ")\n",
    "data = [trace]\n",
    "fig = go.Figure(data=data, layout=layout)\n",
    "py.iplot(fig, filename=\"parentcategory\")"
   ]
  },
  {
   "cell_type": "markdown",
   "metadata": {
    "_cell_guid": "c5153673-584e-4bfc-a81f-5b76ab926259",
    "_uuid": "655c21b72f139151af599c95e624e2ea4d78b0c2"
   },
   "source": [
    "1So 46.4% of the ads are for Personal belongings, 11.9% are for home and garden and 11.5% for consumer electronics."
   ]
  },
  {
   "cell_type": "code",
   "execution_count": 14,
   "metadata": {
    "_cell_guid": "31afe8b2-07c4-4efe-aa0f-7d4dd416e26b",
    "_kg_hide-input": true,
    "_uuid": "7e0492379016632137f45bcc6351bf283182d83e"
   },
   "outputs": [
    {
     "data": {
      "image/png": "[encoded data removed]",
      "text/plain": [
       "<matplotlib.figure.Figure at 0x19b0477dbe0>"
      ]
     },
     "metadata": {},
     "output_type": "display_data"
    }
   ],
   "source": [
    "plt.figure(figsize=(12,8))\n",
    "sns.boxplot(x=\"parent_category_name_en\", y=\"deal_probability\", data=train_df)\n",
    "plt.ylabel('Deal probability', fontsize=12)\n",
    "plt.xlabel('Parent Category', fontsize=12)\n",
    "plt.title(\"Deal probability by parent category\", fontsize=14)\n",
    "plt.xticks(rotation='vertical')\n",
    "plt.show()"
   ]
  },
  {
   "cell_type": "markdown",
   "metadata": {
    "_cell_guid": "fc9526b2-ebcb-48c6-a75d-a5b60999792d",
    "_uuid": "41f3bff88183dbad30caa1ae2d59417d28a0da9e"
   },
   "source": [
    "Services category seems to have slightly higher deal probability compared to others. "
   ]
  },
  {
   "cell_type": "markdown",
   "metadata": {
    "_cell_guid": "5a55649d-e15b-4984-97f3-dba2fa0df751",
    "_uuid": "2d8c704f3888afb344b135f231fdc3b3968d1e11"
   },
   "source": [
    "** Category of Ads:**\n",
    "\n",
    "Now let us look at the category of ads."
   ]
  },
  {
   "cell_type": "code",
   "execution_count": 15,
   "metadata": {
    "_cell_guid": "8f56b56d-dbc5-41c5-97b5-1fd452ad99ff",
    "_kg_hide-input": true,
    "_uuid": "894c0dae35ff6bdde2152ff2614f3c39fbb682ee"
   },
   "outputs": [],
   "source": [
    "temp_data = StringIO(\"\"\"\n",
    "category_name,category_name_en\n",
    "\"Одежда, обувь, аксессуары\",\"Clothing, shoes, accessories\"\n",
    "Детская одежда и обувь,Children's clothing and shoes\n",
    "Товары для детей и игрушки,Children's products and toys\n",
    "Квартиры,Apartments\n",
    "Телефоны,Phones\n",
    "Мебель и интерьер,Furniture and interior\n",
    "Предложение услуг,Offer services\n",
    "Автомобили,Cars\n",
    "Ремонт и строительство,Repair and construction\n",
    "Бытовая техника,Appliances\n",
    "Товары для компьютера,Products for computer\n",
    "\"Дома, дачи, коттеджи\",\"Houses, villas, cottages\"\n",
    "Красота и здоровье,Health and beauty\n",
    "Аудио и видео,Audio and video\n",
    "Спорт и отдых,Sports and recreation\n",
    "Коллекционирование,Collecting\n",
    "Оборудование для бизнеса,Equipment for business\n",
    "Земельные участки,Land\n",
    "Часы и украшения,Watches and jewelry\n",
    "Книги и журналы,Books and magazines\n",
    "Собаки,Dogs\n",
    "\"Игры, приставки и программы\",\"Games, consoles and software\"\n",
    "Другие животные,Other animals\n",
    "Велосипеды,Bikes\n",
    "Ноутбуки,Laptops\n",
    "Кошки,Cats\n",
    "Грузовики и спецтехника,Trucks and buses\n",
    "Посуда и товары для кухни,Tableware and goods for kitchen\n",
    "Растения,Plants\n",
    "Планшеты и электронные книги,Tablets and e-books\n",
    "Товары для животных,Pet products\n",
    "Комнаты,Room\n",
    "Фототехника,Photo\n",
    "Коммерческая недвижимость,Commercial property\n",
    "Гаражи и машиноместа,Garages and Parking spaces\n",
    "Музыкальные инструменты,Musical instruments\n",
    "Оргтехника и расходники,Office equipment and consumables\n",
    "Птицы,Birds\n",
    "Продукты питания,Food\n",
    "Мотоциклы и мототехника,Motorcycles and bikes\n",
    "Настольные компьютеры,Desktop computers\n",
    "Аквариум,Aquarium\n",
    "Охота и рыбалка,Hunting and fishing\n",
    "Билеты и путешествия,Tickets and travel\n",
    "Водный транспорт,Water transport\n",
    "Готовый бизнес,Ready business\n",
    "Недвижимость за рубежом,Property abroad\n",
    "\"\"\")\n",
    "\n",
    "temp_df = pd.read_csv(temp_data)\n",
    "train_df = pd.merge(train_df, temp_df, on=\"category_name\", how=\"left\")"
   ]
  },
  {
   "cell_type": "code",
   "execution_count": 16,
   "metadata": {
    "_cell_guid": "8f73a8e7-da9f-49e7-8cf8-ceb64b78d791",
    "_kg_hide-input": true,
    "_uuid": "71768ad41fe38851a0e6c990ba30166c3b37e584"
   },
   "outputs": [
    {
     "data": {
      "application/vnd.plotly.v1+json": {
       "data": [
        {
         "marker": {
          "color": [
           117,
           2028,
           2180,
           3108,
           4524,
           4840,
           5450,
           5771,
           5781,
           6447,
           6580,
           6695,
           7304,
           8305,
           8345,
           8512,
           8580,
           8624,
           9025,
           9076,
           9394,
           9951,
           10297,
           10638,
           11040,
           11167,
           11612,
           11819,
           15566,
           16038,
           16047,
           24346,
           24881,
           27036,
           29198,
           29244,
           29565,
           33705,
           56201,
           62494,
           64385,
           65035,
           65944,
           83670,
           99747,
           270359,
           282753
          ],
          "colorscale": "Blues",
          "reversescale": true
         },
         "orientation": "h",
         "type": "bar",
         "x": [
          117,
          2028,
          2180,
          3108,
          4524,
          4840,
          5450,
          5771,
          5781,
          6447,
          6580,
          6695,
          7304,
          8305,
          8345,
          8512,
          8580,
          8624,
          9025,
          9076,
          9394,
          9951,
          10297,
          10638,
          11040,
          11167,
          11612,
          11819,
          15566,
          16038,
          16047,
          24346,
          24881,
          27036,
          29198,
          29244,
          29565,
          33705,
          56201,
          62494,
          64385,
          65035,
          65944,
          83670,
          99747,
          270359,
          282753
         ],
         "y": [
          "Property abroad",
          "Ready business",
          "Water transport",
          "Tickets and travel",
          "Hunting and fishing",
          "Aquarium",
          "Desktop computers",
          "Motorcycles and bikes",
          "Food",
          "Birds",
          "Office equipment and consumables",
          "Musical instruments",
          "Garages and Parking spaces",
          "Commercial property",
          "Photo",
          "Room",
          "Pet products",
          "Tablets and e-books",
          "Plants",
          "Tableware and goods for kitchen",
          "Trucks and buses",
          "Cats",
          "Laptops",
          "Bikes",
          "Other animals",
          "Games, consoles and software",
          "Dogs",
          "Books and magazines",
          "Watches and jewelry",
          "Land",
          "Equipment for business",
          "Collecting",
          "Sports and recreation",
          "Audio and video",
          "Health and beauty",
          "Houses, villas, cottages",
          "Products for computer",
          "Appliances",
          "Repair and construction",
          "Cars",
          "Offer services",
          "Furniture and interior",
          "Phones",
          "Apartments",
          "Children's products and toys",
          "Children's clothing and shoes",
          "Clothing, shoes, accessories"
         ]
        }
       ],
       "layout": {
        "height": 900,
        "title": "Category Name of Ads - Count"
       }
      },
      "text/html": [
       "<div id=\"f27b0803-663a-4e30-a4a3-43296d5092b1\" style=\"height: 900px; width: 100%;\" class=\"plotly-graph-div\"></div><script type=\"text/javascript\">require([\"plotly\"], function(Plotly) { window.PLOTLYENV=window.PLOTLYENV || {};window.PLOTLYENV.BASE_URL=\"https://plot.ly\";Plotly.newPlot(\"f27b0803-663a-4e30-a4a3-43296d5092b1\", [{\"orientation\": \"h\", \"x\": [117, 2028, 2180, 3108, 4524, 4840, 5450, 5771, 5781, 6447, 6580, 6695, 7304, 8305, 8345, 8512, 8580, 8624, 9025, 9076, 9394, 9951, 10297, 10638, 11040, 11167, 11612, 11819, 15566, 16038, 16047, 24346, 24881, 27036, 29198, 29244, 29565, 33705, 56201, 62494, 64385, 65035, 65944, 83670, 99747, 270359, 282753], \"type\": \"bar\", \"marker\": {\"colorscale\": \"Blues\", \"reversescale\": true, \"color\": [117, 2028, 2180, 3108, 4524, 4840, 5450, 5771, 5781, 6447, 6580, 6695, 7304, 8305, 8345, 8512, 8580, 8624, 9025, 9076, 9394, 9951, 10297, 10638, 11040, 11167, 11612, 11819, 15566, 16038, 16047, 24346, 24881, 27036, 29198, 29244, 29565, 33705, 56201, 62494, 64385, 65035, 65944, 83670, 99747, 270359, 282753]}, \"y\": [\"Property abroad\", \"Ready business\", \"Water transport\", \"Tickets and travel\", \"Hunting and fishing\", \"Aquarium\", \"Desktop computers\", \"Motorcycles and bikes\", \"Food\", \"Birds\", \"Office equipment and consumables\", \"Musical instruments\", \"Garages and Parking spaces\", \"Commercial property\", \"Photo\", \"Room\", \"Pet products\", \"Tablets and e-books\", \"Plants\", \"Tableware and goods for kitchen\", \"Trucks and buses\", \"Cats\", \"Laptops\", \"Bikes\", \"Other animals\", \"Games, consoles and software\", \"Dogs\", \"Books and magazines\", \"Watches and jewelry\", \"Land\", \"Equipment for business\", \"Collecting\", \"Sports and recreation\", \"Audio and video\", \"Health and beauty\", \"Houses, villas, cottages\", \"Products for computer\", \"Appliances\", \"Repair and construction\", \"Cars\", \"Offer services\", \"Furniture and interior\", \"Phones\", \"Apartments\", \"Children's products and toys\", \"Children's clothing and shoes\", \"Clothing, shoes, accessories\"]}], {\"height\": 900, \"title\": \"Category Name of Ads - Count\"}, {\"linkText\": \"Export to plot.ly\", \"showLink\": true})});</script>"
      ],
      "text/vnd.plotly.v1+html": [
       "<div id=\"f27b0803-663a-4e30-a4a3-43296d5092b1\" style=\"height: 900px; width: 100%;\" class=\"plotly-graph-div\"></div><script type=\"text/javascript\">require([\"plotly\"], function(Plotly) { window.PLOTLYENV=window.PLOTLYENV || {};window.PLOTLYENV.BASE_URL=\"https://plot.ly\";Plotly.newPlot(\"f27b0803-663a-4e30-a4a3-43296d5092b1\", [{\"orientation\": \"h\", \"x\": [117, 2028, 2180, 3108, 4524, 4840, 5450, 5771, 5781, 6447, 6580, 6695, 7304, 8305, 8345, 8512, 8580, 8624, 9025, 9076, 9394, 9951, 10297, 10638, 11040, 11167, 11612, 11819, 15566, 16038, 16047, 24346, 24881, 27036, 29198, 29244, 29565, 33705, 56201, 62494, 64385, 65035, 65944, 83670, 99747, 270359, 282753], \"type\": \"bar\", \"marker\": {\"colorscale\": \"Blues\", \"reversescale\": true, \"color\": [117, 2028, 2180, 3108, 4524, 4840, 5450, 5771, 5781, 6447, 6580, 6695, 7304, 8305, 8345, 8512, 8580, 8624, 9025, 9076, 9394, 9951, 10297, 10638, 11040, 11167, 11612, 11819, 15566, 16038, 16047, 24346, 24881, 27036, 29198, 29244, 29565, 33705, 56201, 62494, 64385, 65035, 65944, 83670, 99747, 270359, 282753]}, \"y\": [\"Property abroad\", \"Ready business\", \"Water transport\", \"Tickets and travel\", \"Hunting and fishing\", \"Aquarium\", \"Desktop computers\", \"Motorcycles and bikes\", \"Food\", \"Birds\", \"Office equipment and consumables\", \"Musical instruments\", \"Garages and Parking spaces\", \"Commercial property\", \"Photo\", \"Room\", \"Pet products\", \"Tablets and e-books\", \"Plants\", \"Tableware and goods for kitchen\", \"Trucks and buses\", \"Cats\", \"Laptops\", \"Bikes\", \"Other animals\", \"Games, consoles and software\", \"Dogs\", \"Books and magazines\", \"Watches and jewelry\", \"Land\", \"Equipment for business\", \"Collecting\", \"Sports and recreation\", \"Audio and video\", \"Health and beauty\", \"Houses, villas, cottages\", \"Products for computer\", \"Appliances\", \"Repair and construction\", \"Cars\", \"Offer services\", \"Furniture and interior\", \"Phones\", \"Apartments\", \"Children's products and toys\", \"Children's clothing and shoes\", \"Clothing, shoes, accessories\"]}], {\"height\": 900, \"title\": \"Category Name of Ads - Count\"}, {\"linkText\": \"Export to plot.ly\", \"showLink\": true})});</script>"
      ]
     },
     "metadata": {},
     "output_type": "display_data"
    }
   ],
   "source": [
    "cnt_srs = train_df['category_name_en'].value_counts()\n",
    "trace = go.Bar(\n",
    "    y=cnt_srs.index[::-1],\n",
    "    x=cnt_srs.values[::-1],\n",
    "    orientation = 'h',\n",
    "    marker=dict(\n",
    "        color=cnt_srs.values[::-1],\n",
    "        colorscale = 'Blues',\n",
    "        reversescale = True\n",
    "    ),\n",
    ")\n",
    "\n",
    "layout = dict(\n",
    "    title='Category Name of Ads - Count',\n",
    "    height=900\n",
    "    )\n",
    "data = [trace]\n",
    "fig = go.Figure(data=data, layout=layout)\n",
    "py.iplot(fig, filename=\"category name\")"
   ]
  },
  {
   "cell_type": "markdown",
   "metadata": {
    "_cell_guid": "3969bee4-d7cf-4eed-b536-172ebf242033",
    "_uuid": "54bcae87d7e90a49aabb23d7600bd391977368a3"
   },
   "source": [
    "So the top 3 categories are:\n",
    "1. Clothes, shoes, accessories\n",
    "2. Children's clothing and footwear\n",
    "3. Goods for children and toys\n"
   ]
  },
  {
   "cell_type": "markdown",
   "metadata": {
    "_cell_guid": "26503524-68a1-4dc1-be5e-bb9a7256e6d7",
    "_uuid": "5ef55d3b291cf2e026ff52eac10c89f8d21ff765"
   },
   "source": [
    "** User Type:**\n",
    "\n",
    "Now let us look at the user type. "
   ]
  },
  {
   "cell_type": "code",
   "execution_count": 17,
   "metadata": {
    "_cell_guid": "ba263be0-6c71-49a1-97df-a85e046365ae",
    "_kg_hide-input": true,
    "_uuid": "1cb60a19d6da78ba93dd97a7ee5a50c04582cdea"
   },
   "outputs": [
    {
     "data": {
      "application/vnd.plotly.v1+json": {
       "data": [
        {
         "labels": [
          "Private",
          "Company",
          "Shop"
         ],
         "type": "pie",
         "values": [
          71.55040760291176,
          23.09721010174109,
          5.352382295347154
         ]
        }
       ],
       "layout": {
        "height": 600,
        "title": "User Type distribution",
        "width": 600
       }
      },
      "text/html": [
       "<div id=\"63954c33-7367-4d7e-9fcc-8ed8078b405e\" style=\"height: 600px; width: 600px;\" class=\"plotly-graph-div\"></div><script type=\"text/javascript\">require([\"plotly\"], function(Plotly) { window.PLOTLYENV=window.PLOTLYENV || {};window.PLOTLYENV.BASE_URL=\"https://plot.ly\";Plotly.newPlot(\"63954c33-7367-4d7e-9fcc-8ed8078b405e\", [{\"values\": [71.55040760291176, 23.09721010174109, 5.352382295347154], \"type\": \"pie\", \"labels\": [\"Private\", \"Company\", \"Shop\"]}], {\"height\": 600, \"title\": \"User Type distribution\", \"width\": 600}, {\"linkText\": \"Export to plot.ly\", \"showLink\": true})});</script>"
      ],
      "text/vnd.plotly.v1+html": [
       "<div id=\"63954c33-7367-4d7e-9fcc-8ed8078b405e\" style=\"height: 600px; width: 600px;\" class=\"plotly-graph-div\"></div><script type=\"text/javascript\">require([\"plotly\"], function(Plotly) { window.PLOTLYENV=window.PLOTLYENV || {};window.PLOTLYENV.BASE_URL=\"https://plot.ly\";Plotly.newPlot(\"63954c33-7367-4d7e-9fcc-8ed8078b405e\", [{\"values\": [71.55040760291176, 23.09721010174109, 5.352382295347154], \"type\": \"pie\", \"labels\": [\"Private\", \"Company\", \"Shop\"]}], {\"height\": 600, \"title\": \"User Type distribution\", \"width\": 600}, {\"linkText\": \"Export to plot.ly\", \"showLink\": true})});</script>"
      ]
     },
     "metadata": {},
     "output_type": "display_data"
    }
   ],
   "source": [
    "temp_series = train_df['user_type'].value_counts()\n",
    "labels = (np.array(temp_series.index))\n",
    "sizes = (np.array((temp_series / temp_series.sum())*100))\n",
    "\n",
    "trace = go.Pie(labels=labels, values=sizes)\n",
    "layout = go.Layout(\n",
    "    title='User Type distribution',\n",
    "    width=600,\n",
    "    height=600,\n",
    ")\n",
    "data = [trace]\n",
    "fig = go.Figure(data=data, layout=layout)\n",
    "py.iplot(fig, filename=\"usertype\")"
   ]
  },
  {
   "cell_type": "markdown",
   "metadata": {
    "_cell_guid": "f7a5ddf8-9c31-4e60-9d29-13106f7e5b82",
    "_uuid": "6387e62bf114a4c1b72220ec10f699fbe2126e51"
   },
   "source": [
    "Private users constitute 72% of the data followed by company and shop.\n",
    "\n",
    "**Price:**\n",
    "\n",
    "This is the price shown in the Ad. "
   ]
  },
  {
   "cell_type": "code",
   "execution_count": 16,
   "metadata": {
    "_cell_guid": "49dbcd6e-e125-425d-acf0-8f9eebd24d40",
    "_kg_hide-input": true,
    "_uuid": "c59a8692b97b97d0e169715f53d7c73d3445792d"
   },
   "outputs": [],
   "source": [
    "train_df[\"price_new\"] = train_df[\"price\"].values\n",
    "train_df[\"price_new\"].fillna(np.nanmean(train_df[\"price\"].values), inplace=True)\n",
    "\n",
    "plt.figure(figsize=(12,8))\n",
    "sns.distplot(np.log1p(train_df[\"price_new\"].values), bins=100, kde=False)\n",
    "plt.xlabel('Log of price', fontsize=12)\n",
    "plt.title(\"Log of Price Histogram\", fontsize=14)\n",
    "plt.show()"
   ]
  },
  {
   "cell_type": "markdown",
   "metadata": {
    "_cell_guid": "4c8ac15c-bc30-4a8d-9bb4-170f2c5b3dfd",
    "_uuid": "76eb5e4d3c814b1760d3551d469df0c10db79ef2"
   },
   "source": [
    "**Activation Date:**"
   ]
  },
  {
   "cell_type": "code",
   "execution_count": 17,
   "metadata": {
    "_cell_guid": "e5b5c36b-e750-48dc-b0a9-6832e951275e",
    "_kg_hide-input": true,
    "_uuid": "e930d03a411b47e1c76733d34bc9211e9c87fce1"
   },
   "outputs": [],
   "source": [
    "cnt_srs = train_df['activation_date'].value_counts()\n",
    "\n",
    "trace = go.Bar(\n",
    "    x=cnt_srs.index,\n",
    "    y=cnt_srs.values,\n",
    "    marker=dict(\n",
    "        color=cnt_srs.values,\n",
    "        colorscale = 'Picnic',\n",
    "        reversescale = True\n",
    "    ),\n",
    ")\n",
    "\n",
    "layout = go.Layout(\n",
    "    title='Activation Dates in Train'\n",
    ")\n",
    "\n",
    "data = [trace]\n",
    "fig = go.Figure(data=data, layout=layout)\n",
    "py.iplot(fig, filename=\"ActivationDate\")\n",
    "\n",
    "# Activation dates in test\n",
    "cnt_srs = test_df['activation_date'].value_counts()\n",
    "\n",
    "trace = go.Bar(\n",
    "    x=cnt_srs.index,\n",
    "    y=cnt_srs.values,\n",
    "    marker=dict(\n",
    "        color=cnt_srs.values,\n",
    "        colorscale = 'Picnic',\n",
    "        reversescale = True\n",
    "    ),\n",
    ")\n",
    "\n",
    "layout = go.Layout(\n",
    "    title='Activation Dates in Test'\n",
    ")\n",
    "\n",
    "data = [trace]\n",
    "fig = go.Figure(data=data, layout=layout)\n",
    "py.iplot(fig, filename=\"ActivationDate\")"
   ]
  },
  {
   "cell_type": "markdown",
   "metadata": {
    "_cell_guid": "d3609c4e-a6ca-4913-8ca2-290e64a06624",
    "_uuid": "88fc62fadc8a34a33dd1074d350a893b02e8e3c4"
   },
   "source": [
    "Inferences:\n",
    "\n",
    "1. So the dates are not different between train and test sets. So we need to be careful while doing our validation. May be time based validation is a good option.\n",
    "2. We are given two weeks data for training (March 15 to March 28) and one week data for testing (April 12 to April 18, 2017).\n",
    "3. There is a gap of two weeks in between training and testing data. \n",
    "4. We can probably use weekday as a feature since all the days are present in both train and test sets. \n",
    "\n",
    "\n",
    "**User id:**\n",
    "\n",
    "Now we can have a look at the number of unique users in train & test and also the number of common users if any."
   ]
  },
  {
   "cell_type": "code",
   "execution_count": 18,
   "metadata": {
    "_cell_guid": "941cee98-9a2c-43f6-813b-6ae5e5f6cb07",
    "_kg_hide-input": true,
    "_uuid": "92353e06ed1a03a6f78611f514b89703b9c4f1bc"
   },
   "outputs": [],
   "source": [
    "from matplotlib_venn import venn2\n",
    "\n",
    "plt.figure(figsize=(10,7))\n",
    "venn2([set(train_df.user_id.unique()), set(test_df.user_id.unique())], set_labels = ('Train set', 'Test set') )\n",
    "plt.title(\"Number of users in train and test\", fontsize=15)\n",
    "plt.show()"
   ]
  },
  {
   "cell_type": "markdown",
   "metadata": {
    "_cell_guid": "90292fcb-facc-4b4b-8fef-811361410797",
    "_uuid": "3b271c43d2f14fddded57267b5efdce5d7975e23"
   },
   "source": [
    "So out of the 306K users in test, about 68K users are there in train and the rest are new.\n",
    "\n",
    "** Title: **\n",
    "\n",
    "First let us look at the number of common titles between train and test set"
   ]
  },
  {
   "cell_type": "code",
   "execution_count": 19,
   "metadata": {
    "_cell_guid": "8b932137-829c-46e0-8a81-4c050d8a6a5e",
    "_kg_hide-input": true,
    "_uuid": "d6fc6de20d442fea87243d76c1a07ed8fef9d7d8"
   },
   "outputs": [],
   "source": [
    "from matplotlib_venn import venn2\n",
    "\n",
    "plt.figure(figsize=(10,7))\n",
    "venn2([set(train_df.title.unique()), set(test_df.title.unique())], set_labels = ('Train set', 'Test set') )\n",
    "plt.title(\"Number of titles in train and test\", fontsize=15)\n",
    "plt.show()"
   ]
  },
  {
   "cell_type": "markdown",
   "metadata": {
    "_cell_guid": "178201a2-561c-4d3a-912c-7f62c5d929a3",
    "_uuid": "23f2f3cf6b8441938cc588509c08269e82f25c59"
   },
   "source": [
    "We have around 64K common titles between train and test set. Now let us look at the number of words present in the title column."
   ]
  },
  {
   "cell_type": "code",
   "execution_count": 20,
   "metadata": {
    "_cell_guid": "ee78ef12-bbca-46f3-b2ca-c01780e320e0",
    "_kg_hide-input": true,
    "_uuid": "d839c73ea40ccecc0dd31dc292b883502510de6e"
   },
   "outputs": [],
   "source": [
    "train_df[\"title_nwords\"] = train_df[\"title\"].apply(lambda x: len(x.split()))\n",
    "test_df[\"title_nwords\"] = test_df[\"title\"].apply(lambda x: len(x.split()))\n",
    "\n",
    "cnt_srs = train_df['title_nwords'].value_counts()\n",
    "\n",
    "trace = go.Bar(\n",
    "    x=cnt_srs.index,\n",
    "    y=cnt_srs.values,\n",
    "    marker=dict(\n",
    "        color=\"blue\",\n",
    "        #colorscale = 'Blues',\n",
    "        reversescale = True\n",
    "    ),\n",
    ")\n",
    "\n",
    "layout = go.Layout(\n",
    "    title='Number of words in title column'\n",
    ")\n",
    "\n",
    "data = [trace]\n",
    "fig = go.Figure(data=data, layout=layout)\n",
    "py.iplot(fig, filename=\"title_nwords\")           "
   ]
  },
  {
   "cell_type": "markdown",
   "metadata": {
    "_cell_guid": "f74fea23-7145-4f8c-97f2-6a552fc242ac",
    "_uuid": "f07c7566d3430226a6f8f3d0098fa2243700f112"
   },
   "source": [
    "Majority of the tiles have 1, 2 or 3 words and has a long tail.\n",
    "\n",
    "Now we will do the following:\n",
    "1. Take the TF-IDF of the title column and this will be a sparse matrix with huge dimesnions.\n",
    "2. Get the top SVD components fof this TF-IDF \n",
    "3. Plot the distribution of SVD components with Deal probability to see if these variables help."
   ]
  },
  {
   "cell_type": "code",
   "execution_count": 21,
   "metadata": {
    "_cell_guid": "16f8e6bb-8cfc-478e-973b-56bf50d66228",
    "_kg_hide-input": true,
    "_uuid": "5493999e6388b8601da5cb707f0876c8d257a24a",
    "collapsed": true
   },
   "outputs": [],
   "source": [
    "### TFIDF Vectorizer ###\n",
    "tfidf_vec = TfidfVectorizer(ngram_range=(1,1))\n",
    "full_tfidf = tfidf_vec.fit_transform(train_df['title'].values.tolist() + test_df['title'].values.tolist())\n",
    "train_tfidf = tfidf_vec.transform(train_df['title'].values.tolist())\n",
    "test_tfidf = tfidf_vec.transform(test_df['title'].values.tolist())\n",
    "\n",
    "### SVD Components ###\n",
    "n_comp = 3\n",
    "svd_obj = TruncatedSVD(n_components=n_comp, algorithm='arpack')\n",
    "svd_obj.fit(full_tfidf)\n",
    "train_svd = pd.DataFrame(svd_obj.transform(train_tfidf))\n",
    "test_svd = pd.DataFrame(svd_obj.transform(test_tfidf))\n",
    "train_svd.columns = ['svd_title_'+str(i+1) for i in range(n_comp)]\n",
    "test_svd.columns = ['svd_title_'+str(i+1) for i in range(n_comp)]\n",
    "train_df = pd.concat([train_df, train_svd], axis=1)\n",
    "test_df = pd.concat([test_df, test_svd], axis=1)\n",
    "del full_tfidf, train_tfidf, test_tfidf, train_svd, test_svd"
   ]
  },
  {
   "cell_type": "code",
   "execution_count": 22,
   "metadata": {
    "_cell_guid": "27d987af-0dbd-4e2d-8703-a1fe69f7f416",
    "_kg_hide-input": true,
    "_uuid": "270c110e67af84fc019a5c06c5cb63fb3da6a74d"
   },
   "outputs": [],
   "source": [
    "# 1st svd comp #\n",
    "plt.figure(figsize=(8,8))\n",
    "sns.jointplot(x=train_df[\"svd_title_1\"].values, y=train_df[\"deal_probability\"].values, size=10)\n",
    "plt.ylabel('Deal Probability', fontsize=12)\n",
    "plt.xlabel('First SVD component on Title', fontsize=12)\n",
    "plt.title(\"Deal Probability distribution for First SVD component on title\", fontsize=15)\n",
    "plt.show()\n",
    "\n",
    "# 2nd svd comp #\n",
    "plt.figure(figsize=(8,8))\n",
    "sns.jointplot(x=train_df[\"svd_title_2\"].values, y=train_df[\"deal_probability\"].values, size=10)\n",
    "plt.ylabel('Deal Probability', fontsize=12)\n",
    "plt.xlabel('Second SVD component on Title', fontsize=12)\n",
    "plt.title(\"Deal Probability distribution for Second SVD component on title\", fontsize=15)\n",
    "plt.show()\n",
    "\n",
    "# 3rd svd comp #\n",
    "plt.figure(figsize=(8,8))\n",
    "sns.jointplot(x=train_df[\"svd_title_3\"].values, y=train_df[\"deal_probability\"].values, size=10)\n",
    "plt.ylabel('Deal Probability', fontsize=12)\n",
    "plt.xlabel('Third SVD component on Title', fontsize=12)\n",
    "plt.title(\"Deal Probability distribution for Third SVD component on title\", fontsize=15)\n",
    "plt.show()"
   ]
  },
  {
   "cell_type": "markdown",
   "metadata": {
    "_cell_guid": "ee3331ff-c067-4768-a841-3aa44076cd88",
    "_uuid": "c490aef2b274725cd574f01bebf686b1f0034b71"
   },
   "source": [
    "As we can see, the top SVD components capture quite an amount of variation in the data. So this might be helpful features in our modeling process."
   ]
  },
  {
   "cell_type": "markdown",
   "metadata": {
    "_cell_guid": "0d7c5e78-c64b-4650-8e57-5a5acd90373f",
    "_uuid": "f11548b173c13491c64259532796039fa3ffe455"
   },
   "source": [
    "**Description:**\n",
    "\n",
    "Let us first check the number of words in the description column.\n"
   ]
  },
  {
   "cell_type": "code",
   "execution_count": 23,
   "metadata": {
    "_cell_guid": "d9d04405-8a50-4746-96e9-8fec3576b0f6",
    "_kg_hide-input": true,
    "_uuid": "01093d9b05aed9c5692e384e15a0525c6f65a840"
   },
   "outputs": [],
   "source": [
    "## Filling missing values ##\n",
    "train_df[\"description\"].fillna(\"NA\", inplace=True)\n",
    "test_df[\"description\"].fillna(\"NA\", inplace=True)\n",
    "\n",
    "train_df[\"desc_nwords\"] = train_df[\"description\"].apply(lambda x: len(x.split()))\n",
    "test_df[\"desc_nwords\"] = test_df[\"description\"].apply(lambda x: len(x.split()))\n",
    "\n",
    "cnt_srs = train_df['desc_nwords'].value_counts().head(100)\n",
    "\n",
    "trace = go.Bar(\n",
    "    x=cnt_srs.index,\n",
    "    y=cnt_srs.values,\n",
    "    marker=dict(\n",
    "        color=\"blue\",\n",
    "        #colorscale = 'Blues',\n",
    "        reversescale = True\n",
    "    ),\n",
    ")\n",
    "\n",
    "layout = go.Layout(\n",
    "    title='Number of words in Description column'\n",
    ")\n",
    "\n",
    "data = [trace]\n",
    "fig = go.Figure(data=data, layout=layout)\n",
    "py.iplot(fig, filename=\"desc_nwords\")  "
   ]
  },
  {
   "cell_type": "markdown",
   "metadata": {
    "_cell_guid": "2dac9656-fb96-4885-a4c3-619b97bbade0",
    "_uuid": "a5b9b30c9f26b12dff713cec6ae0b4ac95dd284e"
   },
   "source": [
    "Description column has a huge right tail till about 700 words. I have cut the same till top 100 for better visualization.\n",
    "\n",
    "Now let us create the first 3 SVD components for description column (just like title) and plot the same against deal probability."
   ]
  },
  {
   "cell_type": "code",
   "execution_count": 24,
   "metadata": {
    "_cell_guid": "b2ef73f3-2915-4276-8aab-4b96be735727",
    "_kg_hide-input": true,
    "_uuid": "285b43beab661ec477ddcf198eaebd24944433e1",
    "collapsed": true
   },
   "outputs": [],
   "source": [
    "### TFIDF Vectorizer ###\n",
    "tfidf_vec = TfidfVectorizer(ngram_range=(1,1), max_features=100000)\n",
    "full_tfidf = tfidf_vec.fit_transform(train_df['description'].values.tolist() + test_df['description'].values.tolist())\n",
    "train_tfidf = tfidf_vec.transform(train_df['description'].values.tolist())\n",
    "test_tfidf = tfidf_vec.transform(test_df['description'].values.tolist())\n",
    "\n",
    "### SVD Components ###\n",
    "n_comp = 3\n",
    "svd_obj = TruncatedSVD(n_components=n_comp, algorithm='arpack')\n",
    "svd_obj.fit(full_tfidf)\n",
    "train_svd = pd.DataFrame(svd_obj.transform(train_tfidf))\n",
    "test_svd = pd.DataFrame(svd_obj.transform(test_tfidf))\n",
    "train_svd.columns = ['svd_desc_'+str(i+1) for i in range(n_comp)]\n",
    "test_svd.columns = ['svd_desc_'+str(i+1) for i in range(n_comp)]\n",
    "train_df = pd.concat([train_df, train_svd], axis=1)\n",
    "test_df = pd.concat([test_df, test_svd], axis=1)\n",
    "del full_tfidf, train_tfidf, test_tfidf, train_svd, test_svd"
   ]
  },
  {
   "cell_type": "code",
   "execution_count": 25,
   "metadata": {
    "_cell_guid": "7f53f33f-9247-439c-a84d-3818634d45be",
    "_kg_hide-input": true,
    "_uuid": "817e8255a4c4773c799d1a3d7b91f5e16af5a933"
   },
   "outputs": [],
   "source": [
    "# 1st svd comp #\n",
    "plt.figure(figsize=(8,8))\n",
    "sns.jointplot(x=train_df[\"svd_desc_1\"].values, y=train_df[\"deal_probability\"].values, size=10)\n",
    "plt.ylabel('Deal Probability', fontsize=12)\n",
    "plt.xlabel('First SVD component on Description', fontsize=12)\n",
    "plt.title(\"Deal Probability distribution for First SVD component on Description\", fontsize=15)\n",
    "plt.show()\n",
    "\n",
    "# 2nd svd comp #\n",
    "plt.figure(figsize=(8,8))\n",
    "sns.jointplot(x=train_df[\"svd_desc_2\"].values, y=train_df[\"deal_probability\"].values, size=10)\n",
    "plt.ylabel('Deal Probability', fontsize=12)\n",
    "plt.xlabel('Second SVD component on Description', fontsize=12)\n",
    "plt.title(\"Deal Probability distribution for Second SVD component on title\", fontsize=15)\n",
    "plt.show()\n",
    "\n",
    "# 3rd svd comp #\n",
    "plt.figure(figsize=(8,8))\n",
    "sns.jointplot(x=train_df[\"svd_desc_3\"].values, y=train_df[\"deal_probability\"].values, size=10)\n",
    "plt.ylabel('Deal Probability', fontsize=12)\n",
    "plt.xlabel('Second SVD component on Description', fontsize=12)\n",
    "plt.title(\"Deal Probability distribution for Third SVD component on Description\", fontsize=15)\n",
    "plt.show()"
   ]
  },
  {
   "cell_type": "markdown",
   "metadata": {
    "_cell_guid": "101e25f2-3dde-4f42-a2bf-1b39872d64a6",
    "_uuid": "5b080dd322618632376658e7c6075f79a7150c3e"
   },
   "source": [
    "Looks like it also captures some good amount of variability. \n",
    "\n",
    "** Baseline Model:**\n",
    "\n",
    "Now let us build a baseline model using the given features and newly created features.\n",
    "\n",
    "In the following block, we will do :\n",
    " 1. Create a new feature for week day\n",
    " 2. Label encode the cateforical variables\n",
    " 3. Drop the columns that are not needed in the model."
   ]
  },
  {
   "cell_type": "code",
   "execution_count": 28,
   "metadata": {
    "_uuid": "c484e796af93f56fcae063b73c22326937c95d9b"
   },
   "outputs": [],
   "source": [
    "# Target and ID variables #\n",
    "train_y = train_df[\"deal_probability\"].values\n",
    "test_id = test_df[\"item_id\"].values\n",
    "\n",
    "# New variable on weekday #\n",
    "train_df[\"activation_weekday\"] = train_df[\"activation_date\"].dt.weekday\n",
    "test_df[\"activation_weekday\"] = test_df[\"activation_date\"].dt.weekday\n",
    "\n",
    "# Label encode the categorical variables #\n",
    "cat_vars = [\"region\", \"city\", \"parent_category_name\", \"category_name\", \"user_type\", \"param_1\", \"param_2\", \"param_3\"]\n",
    "for col in cat_vars:\n",
    "    lbl = preprocessing.LabelEncoder()\n",
    "    lbl.fit(list(train_df[col].values.astype('str')) + list(test_df[col].values.astype('str')))\n",
    "    train_df[col] = lbl.transform(list(train_df[col].values.astype('str')))\n",
    "    test_df[col] = lbl.transform(list(test_df[col].values.astype('str')))\n",
    "\n",
    "cols_to_drop = [\"item_id\", \"user_id\", \"title\", \"description\", \"activation_date\", \"image\"]\n",
    "train_X = train_df.drop(cols_to_drop + [\"region_en\", \"parent_category_name_en\", \"category_name_en\", \"price_new\", \"deal_probability\"], axis=1)\n",
    "test_X = test_df.drop(cols_to_drop, axis=1)"
   ]
  },
  {
   "cell_type": "markdown",
   "metadata": {
    "_uuid": "413f7a12938345695f89cc298d3913ef8895f916"
   },
   "source": [
    "Now let us create a custom function to build the LightGBM model."
   ]
  },
  {
   "cell_type": "code",
   "execution_count": 39,
   "metadata": {
    "_uuid": "d9e7d6deb3cae10ecdfb01058325e1ae240f6510",
    "collapsed": true
   },
   "outputs": [],
   "source": [
    "def run_lgb(train_X, train_y, val_X, val_y, test_X):\n",
    "    params = {\n",
    "        \"objective\" : \"regression\",\n",
    "        \"metric\" : \"rmse\",\n",
    "        \"num_leaves\" : 30,\n",
    "        \"learning_rate\" : 0.1,\n",
    "        \"bagging_fraction\" : 0.7,\n",
    "        \"feature_fraction\" : 0.7,\n",
    "        \"bagging_frequency\" : 5,\n",
    "        \"bagging_seed\" : 2018,\n",
    "        \"verbosity\" : -1\n",
    "    }\n",
    "    \n",
    "    lgtrain = lgb.Dataset(train_X, label=train_y)\n",
    "    lgval = lgb.Dataset(val_X, label=val_y)\n",
    "    evals_result = {}\n",
    "    model = lgb.train(params, lgtrain, 1000, valid_sets=[lgval], early_stopping_rounds=100, verbose_eval=20, evals_result=evals_result)\n",
    "    \n",
    "    pred_test_y = model.predict(test_X, num_iteration=model.best_iteration)\n",
    "    return pred_test_y, model, evals_result"
   ]
  },
  {
   "cell_type": "markdown",
   "metadata": {
    "_uuid": "1e18f280ab5a2ec2b04c4dc3da368e664d37b190"
   },
   "source": [
    "We will now split the train into development and validation sample and build our models. We will take the last 200K rows as validation sample. "
   ]
  },
  {
   "cell_type": "code",
   "execution_count": 41,
   "metadata": {
    "_uuid": "135a8e08158017253adf5a46dcb46fcb0d1a5bbd"
   },
   "outputs": [],
   "source": [
    "# Splitting the data for model training#\n",
    "dev_X = train_X.iloc[:-200000,:]\n",
    "val_X = train_X.iloc[-200000:,:]\n",
    "dev_y = train_y[:-200000]\n",
    "val_y = train_y[-200000:]\n",
    "print(dev_X.shape, val_X.shape, test_X.shape)\n",
    "\n",
    "# Training the model #\n",
    "pred_test, model, evals_result = run_lgb(dev_X, dev_y, val_X, val_y, test_X)\n",
    "\n",
    "# Making a submission file #\n",
    "pred_test[pred_test>1] = 1\n",
    "pred_test[pred_test<0] = 0\n",
    "sub_df = pd.DataFrame({\"item_id\":test_id})\n",
    "sub_df[\"deal_probability\"] = pred_test\n",
    "sub_df.to_csv(\"baseline_lgb.csv\", index=False)"
   ]
  },
  {
   "cell_type": "markdown",
   "metadata": {
    "_uuid": "3788c1605ef990a0bfe17887b878e8e313bb770c"
   },
   "source": [
    "** Feature Importance : **\n",
    "\n",
    "Now let us look at the top features from the model."
   ]
  },
  {
   "cell_type": "code",
   "execution_count": 46,
   "metadata": {
    "_uuid": "2c31a6370706f5c0630e565bb32cfdd8e0d1fa9f"
   },
   "outputs": [],
   "source": [
    "fig, ax = plt.subplots(figsize=(12,18))\n",
    "lgb.plot_importance(model, max_num_features=50, height=0.8, ax=ax)\n",
    "ax.grid(False)\n",
    "plt.title(\"LightGBM - Feature Importance\", fontsize=15)\n",
    "plt.show()"
   ]
  },
  {
   "cell_type": "markdown",
   "metadata": {
    "_uuid": "cd521a6ee14c4da42c7504a5acb4d3c5d32063b7"
   },
   "source": [
    "Price seems to be the most important feature followed by image_top_1 and param_1.\n",
    "\n",
    "** Ways to improve the model:**\n",
    "\n",
    " 1. Adding more new features \n",
    " 2. Tuning the parameters as these are not tuned\n",
    " 3. Blending with other models.\n",
    " \n",
    "** Happy Kaggling.!**"
   ]
  }
 ],
 "metadata": {
  "kernelspec": {
   "display_name": "Python 3",
   "language": "python",
   "name": "python3"
  },
  "language_info": {
   "codemirror_mode": {
    "name": "ipython",
    "version": 3
   },
   "file_extension": ".py",
   "mimetype": "text/x-python",
   "name": "python",
   "nbconvert_exporter": "python",
   "pygments_lexer": "ipython3",
   "version": "3.5.4"
  }
 },
 "nbformat": 4,
 "nbformat_minor": 1
}
